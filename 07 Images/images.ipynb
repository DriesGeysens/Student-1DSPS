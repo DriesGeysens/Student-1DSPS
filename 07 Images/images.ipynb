{
 "cells": [
  {
   "attachments": {},
   "cell_type": "markdown",
   "metadata": {},
   "source": [
    "# Images\n",
    "\n",
    "pip install Pillow\n",
    "\n",
    "Working with a bunch of images can be very boring, but Python has a brilliant third-party module for working with image files, it has several functions to crop, resize and edit content so it's very easy to manipulate thousands of images. Yay, because that's why we love scripting!\n",
    "\n",
    "## Colors and RGB values"
   ]
  },
  {
   "cell_type": "code",
   "execution_count": 6,
   "metadata": {},
   "outputs": [
    {
     "ename": "SyntaxError",
     "evalue": "unexpected EOF while parsing (1087677353.py, line 10)",
     "output_type": "error",
     "traceback": [
      "\u001b[1;36m  Cell \u001b[1;32mIn[6], line 10\u001b[1;36m\u001b[0m\n\u001b[1;33m    print(ImageColor.getcolor(\"Red\",mode=\"hex\")\u001b[0m\n\u001b[1;37m                                               ^\u001b[0m\n\u001b[1;31mSyntaxError\u001b[0m\u001b[1;31m:\u001b[0m unexpected EOF while parsing\n"
     ]
    }
   ],
   "source": [
    "! pip install Pillow\n",
    "\n",
    "from PIL import ImageColor\n",
    "print(ImageColor.getcolor(\"yellow\",\"RGBA\"))\n",
    "print(ImageColor.getcolor('red', 'RGBA'))\n",
    "print(ImageColor.getcolor('RED', 'RGBA'))\n",
    "print(ImageColor.getcolor('Black', 'RGBA'))\n",
    "print(ImageColor.getcolor('chocolate', 'RGBA'))\n",
    "print(ImageColor.getcolor('CornflowerBlue', 'RGBA'))\n",
    "print(ImageColor.getcolor(\"Red\",mode=\"hex\")\n"
   ]
  },
  {
   "attachments": {},
   "cell_type": "markdown",
   "metadata": {},
   "source": [
    "## Loading images & check properties\n",
    "\n",
    "Get an image from https://picsum.photos/images"
   ]
  },
  {
   "cell_type": "code",
   "execution_count": 7,
   "metadata": {},
   "outputs": [
    {
     "name": "stdout",
     "output_type": "stream",
     "text": [
      "(4951, 3301)\n",
      "4951 3301\n",
      "dog.jpg\n",
      "JPEG JPEG (ISO 10918)\n",
      "PNG Portable network graphics\n"
     ]
    }
   ],
   "source": [
    "from PIL import Image\n",
    "\n",
    "jpgimg = Image.open('dog.jpg')\n",
    "\n",
    "print(jpgimg.size)\n",
    "\n",
    "width, height = jpgimg.size\n",
    "print(width, height)\n",
    "\n",
    "print(jpgimg.filename)\n",
    "print(jpgimg.format,jpgimg.format_description)\n",
    "jpgimg.save('dog.png')\n",
    "\n",
    "pngimg = Image.open('dog.png')\n",
    "print(pngimg.format, pngimg.format_description)"
   ]
  },
  {
   "cell_type": "code",
   "execution_count": 11,
   "metadata": {},
   "outputs": [],
   "source": [
    "from PIL import Image\n",
    "\n",
    "img = Image.open('dog.jpg')\n",
    "#left, top, right, bottom\n",
    "img = img.crop((2700, 200, 2800, 1000))\n",
    "img.save('cropped.png')"
   ]
  },
  {
   "cell_type": "code",
   "execution_count": 31,
   "metadata": {},
   "outputs": [],
   "source": [
    "img = Image.new('RGBA',(500,500),(170,180,70,255))\n",
    "dog = Image.open(\"dog.jpg\")\n",
    "cropped_dog = dog.crop((0, 200, 500, 500))\n",
    "#cropped_dog.show()\n",
    "copy_dog = cropped_dog.copy()\n",
    "copy_dog.paste(img,(0,0))\n",
    "copy_dog.save(\"blue_dog.png\")\n"
   ]
  },
  {
   "attachments": {},
   "cell_type": "markdown",
   "metadata": {},
   "source": [
    "## Creating for insta new images"
   ]
  },
  {
   "cell_type": "code",
   "execution_count": null,
   "metadata": {},
   "outputs": [],
   "source": [
    "from PIL import Image\n",
    "img = Image.new('RGBA', (100, 200), 'purple')\n",
    "img.save('purple.png')\n",
    "img = Image.new('RGBA', (20, 20))\n",
    "img.save('transparant.png')\n",
    "img = Image.new('RGBA', (200, 200), (0,255,0,100))\n",
    "img.save('green.png')\n",
    "\n",
    "img.show()"
   ]
  },
  {
   "attachments": {},
   "cell_type": "markdown",
   "metadata": {},
   "source": [
    "## Cropping images\n",
    "\n",
    "Crop a part of an image and copy/paste it to another one!"
   ]
  },
  {
   "cell_type": "code",
   "execution_count": 2,
   "metadata": {},
   "outputs": [],
   "source": [
    "from PIL import Image\n",
    "img = Image.open('dog.jpg')\n",
    "\n",
    "img = img.crop((2100, 200, 2800, 1000))\n",
    "img.save('cropped.png')\n"
   ]
  },
  {
   "cell_type": "code",
   "execution_count": 23,
   "metadata": {},
   "outputs": [],
   "source": [
    "from PIL import Image\n",
    "\n",
    "img = Image.open('dog.jpg')\n",
    "crop = img.crop((2100, 200, 2800, 1000))\n",
    "\n",
    "copyimg = img.copy()\n",
    "copyimg.paste(crop, (0,0))\n",
    "copyimg.paste(crop, (2000,1500))\n",
    "copyimg.paste(crop, (4000,3000))\n",
    "copyimg.save('dog2.jpg')\n"
   ]
  },
  {
   "cell_type": "code",
   "execution_count": null,
   "metadata": {},
   "outputs": [
    {
     "name": "stdout",
     "output_type": "stream",
     "text": [
      "0 0\n",
      "0 800\n",
      "0 1600\n",
      "0 2400\n",
      "0 3200\n",
      "700 0\n",
      "700 800\n",
      "700 1600\n",
      "700 2400\n",
      "700 3200\n",
      "1400 0\n",
      "1400 800\n",
      "1400 1600\n",
      "1400 2400\n",
      "1400 3200\n",
      "2100 0\n",
      "2100 800\n",
      "2100 1600\n",
      "2100 2400\n",
      "2100 3200\n",
      "2800 0\n",
      "2800 800\n",
      "2800 1600\n",
      "2800 2400\n",
      "2800 3200\n",
      "3500 0\n",
      "3500 800\n",
      "3500 1600\n",
      "3500 2400\n",
      "3500 3200\n",
      "4200 0\n",
      "4200 800\n",
      "4200 1600\n",
      "4200 2400\n",
      "4200 3200\n",
      "4900 0\n",
      "4900 800\n",
      "4900 1600\n",
      "4900 2400\n",
      "4900 3200\n"
     ]
    }
   ],
   "source": [
    "from PIL import Image\n",
    "\n",
    "img = Image.open('dog.jpg')\n",
    "crop = img.crop((2100, 200, 2800, 1000))\n",
    "width, height = img.size\n",
    "facewidth, faceheight = crop.size\n",
    "\n",
    "newimg = Image.new('RGBA', (width, height), 'purple')\n",
    "for left in range(0, width, facewidth):\n",
    "    for top in range(0, height, faceheight):\n",
    "        img.paste(crop, (left, top))\n",
    "\n",
    "img.save('cropped2.jpg')"
   ]
  },
  {
   "attachments": {},
   "cell_type": "markdown",
   "metadata": {},
   "source": [
    "## New image"
   ]
  },
  {
   "cell_type": "code",
   "execution_count": 4,
   "metadata": {},
   "outputs": [],
   "source": [
    "from PIL import Image\n",
    "\n",
    "img = Image.new('RGBA', (100, 200), 'purple')\n",
    "img.save('purple.png')\n",
    "img = Image.new('RGBA', (20, 20))\n",
    "img.save('transparant.png')\n",
    "img = Image.new('RGBA', (200, 200), (0,255,0,100))\n",
    "img.save('green.png')"
   ]
  },
  {
   "attachments": {},
   "cell_type": "markdown",
   "metadata": {},
   "source": [
    "## Resizing, rotating & flipping images"
   ]
  },
  {
   "cell_type": "code",
   "execution_count": 32,
   "metadata": {},
   "outputs": [
    {
     "name": "stderr",
     "output_type": "stream",
     "text": [
      "C:\\Users\\geysedr\\AppData\\Local\\Temp\\ipykernel_32836\\1977221148.py:13: DeprecationWarning: FLIP_LEFT_RIGHT is deprecated and will be removed in Pillow 10 (2023-07-01). Use Transpose.FLIP_LEFT_RIGHT instead.\n",
      "  halfsize.transpose(Image.FLIP_LEFT_RIGHT).save('horizontal_flip.png')\n",
      "C:\\Users\\geysedr\\AppData\\Local\\Temp\\ipykernel_32836\\1977221148.py:14: DeprecationWarning: FLIP_TOP_BOTTOM is deprecated and will be removed in Pillow 10 (2023-07-01). Use Transpose.FLIP_TOP_BOTTOM instead.\n",
      "  halfsize.transpose(Image.FLIP_TOP_BOTTOM).save('vertical_flip.png')\n"
     ]
    }
   ],
   "source": [
    "from PIL import Image\n",
    "\n",
    "img = Image.open('dog.jpg')\n",
    "width, height = img.size\n",
    "\n",
    "halfsize = img.resize((int(width / 2), int(height / 2)))\n",
    "halfsize.save('halfsize.jpg')\n",
    "\n",
    "halfsize.rotate(90).save('rotated90.png')\n",
    "halfsize.rotate(180).save('rotated180.png')\n",
    "halfsize.rotate(270).save('rotated270.png')\n",
    "\n",
    "halfsize.transpose(Image.FLIP_LEFT_RIGHT).save('horizontal_flip.png')\n",
    "halfsize.transpose(Image.FLIP_TOP_BOTTOM).save('vertical_flip.png')"
   ]
  },
  {
   "attachments": {},
   "cell_type": "markdown",
   "metadata": {},
   "source": [
    "## Pixels of the image"
   ]
  },
  {
   "cell_type": "code",
   "execution_count": 33,
   "metadata": {
    "tags": []
   },
   "outputs": [],
   "source": [
    "from PIL import Image\n",
    "\n",
    "img = Image.open('cropped.png')\n",
    "\n",
    "for x in range(0,img.width):\n",
    "    for y in range(0, img.height):\n",
    "        r,g,b = img.getpixel((x,y))\n",
    "        inverted = (255-r,255-g,255-b) \n",
    "        img.putpixel((x,y),inverted)\n",
    "\n",
    "img.show()"
   ]
  },
  {
   "cell_type": "code",
   "execution_count": 37,
   "metadata": {},
   "outputs": [],
   "source": [
    "blue_dog = Image.open(\"blue_dog.png\")\n",
    "\n",
    "for x in range(0,blue_dog.width):\n",
    "    for y in range(0,blue_dog.height):\n",
    "        color = blue_dog.getpixel((x,y))\n",
    "        color = (72,209,204)\n",
    "        blue_dog.putpixel((x,y),color)\n",
    "blue_dog.save(\"crazy_dog.png\")"
   ]
  },
  {
   "cell_type": "code",
   "execution_count": 43,
   "metadata": {},
   "outputs": [],
   "source": [
    "blue_dog = Image.open(\"blue_dog.png\")\n",
    "blue_dog = blue_dog.resize((255,1000))\n",
    "for x in range(0,blue_dog.width):\n",
    "    for y in range(0,blue_dog.height):\n",
    "        color = blue_dog.getpixel((x,y))\n",
    "        color = (0,0,255-y)\n",
    "        blue_dog.putpixel((x,y),color)\n",
    "blue_dog.save(\"crazy_dog.png\")"
   ]
  },
  {
   "cell_type": "code",
   "execution_count": null,
   "metadata": {},
   "outputs": [],
   "source": [
    "from PIL import Image, ImageChops\n",
    "  \n",
    "img = Image.open('cropped.png')\n",
    "img = ImageChops.invert(img)\n",
    "img.show()"
   ]
  },
  {
   "attachments": {},
   "cell_type": "markdown",
   "metadata": {},
   "source": [
    "## Drawing on images"
   ]
  },
  {
   "cell_type": "code",
   "execution_count": 46,
   "metadata": {},
   "outputs": [],
   "source": [
    "from PIL import Image, ImageDraw\n",
    "\n",
    "#img = Image.new('RGBA', (200, 200), 'pink')\n",
    "img = Image.open(\"blue_dog.png\")\n",
    "draw = ImageDraw.Draw(img)\n",
    "draw.line([(0, 0), (199, 0), (199, 199), (0, 199), (0, 0)], fill='black')\n",
    "draw.rectangle((20, 30, 60, 60), fill='blue')\n",
    "draw.ellipse((120, 30, 160, 60), fill='red')\n",
    "draw.polygon(((57, 87), (79, 62), (94, 85), (120, 90), (103, 113)), fill='brown')\n",
    "for i in range(100, 200, 10):\n",
    "    draw.line([(i, 0), (200, i - 100)], fill='green')\n",
    "\n",
    "img.save('drawing.png')"
   ]
  },
  {
   "cell_type": "code",
   "execution_count": 50,
   "metadata": {},
   "outputs": [],
   "source": [
    "from PIL import Image, ImageDraw, ImageFont\n",
    "import os\n",
    "\n",
    "#im = Image.new('RGBA', (200, 200), 'white')\n",
    "im = Image.open(\"dog.png\")\n",
    "draw = ImageDraw.Draw(im)\n",
    "draw.text((20, 5000), 'Hello', fill='white')\n",
    "fontsFolder = 'FONT_FOLDER' # e.g. ‘/Library/Fonts'\n",
    "arialFont = ImageFont.truetype(os.path.join(fontsFolder, 'arial.ttf'), 64)\n",
    "draw.text((100, 150), 'Hello', fill='gray', font=arialFont)\n",
    "im.save('text.png')"
   ]
  },
  {
   "attachments": {},
   "cell_type": "markdown",
   "metadata": {},
   "source": [
    "## Practice makes perfect!\n",
    "\n",
    "- Create a black/white logo from an image\n",
    "- Put that logo on to another image in the right bottom of the image\n",
    "- Find all images in a specific folder and give them all the same logo, also rename and resize them\n",
    "- Draw a self portrait ;)\n",
    "- Create a meme from scratch"
   ]
  },
  {
   "attachments": {},
   "cell_type": "markdown",
   "metadata": {},
   "source": []
  }
 ],
 "metadata": {
  "interpreter": {
   "hash": "cd5662ff78f94fa96606278180ac3194361a7052a583c098e93db213779cf166"
  },
  "kernelspec": {
   "display_name": "Python 3 (ipykernel)",
   "language": "python",
   "name": "python3"
  },
  "language_info": {
   "codemirror_mode": {
    "name": "ipython",
    "version": 3
   },
   "file_extension": ".py",
   "mimetype": "text/x-python",
   "name": "python",
   "nbconvert_exporter": "python",
   "pygments_lexer": "ipython3",
   "version": "3.9.13"
  },
  "metadata": {
   "interpreter": {
    "hash": "4716b34df6b0e0d61b0a44c71db573090ba3cead5b261234431b6b3bdee224c4"
   }
  }
 },
 "nbformat": 4,
 "nbformat_minor": 2
}
