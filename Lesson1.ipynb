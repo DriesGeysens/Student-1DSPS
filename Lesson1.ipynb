{
 "cells": [
  {
   "attachments": {},
   "cell_type": "markdown",
   "metadata": {},
   "source": [
    "# Lesson 1"
   ]
  },
  {
   "attachments": {},
   "cell_type": "markdown",
   "metadata": {},
   "source": [
    "## Input"
   ]
  },
  {
   "cell_type": "code",
   "execution_count": 1,
   "metadata": {},
   "outputs": [
    {
     "name": "stdout",
     "output_type": "stream",
     "text": [
      "HelloDries, your age is 24\n"
     ]
    }
   ],
   "source": [
    "# Let the user give in their name & age & print those with a welcome message\n",
    "name = input(\"Enter your name: \")\n",
    "age = input(\"Enter your age: \")\n",
    "print(f\"Hello {name}, your age is {age}\")"
   ]
  },
  {
   "attachments": {},
   "cell_type": "markdown",
   "metadata": {},
   "source": [
    "## Variables"
   ]
  },
  {
   "cell_type": "code",
   "execution_count": 10,
   "metadata": {},
   "outputs": [
    {
     "name": "stdout",
     "output_type": "stream",
     "text": [
      "This is a number: 7\n"
     ]
    }
   ],
   "source": [
    "# Write a program that asks the user for an input \n",
    "# and then prints out the data type of the input.\n",
    "#variable = input(\"Give in an input\")\n",
    "print(\"This is a number:\",7)"
   ]
  },
  {
   "cell_type": "code",
   "execution_count": 11,
   "metadata": {},
   "outputs": [
    {
     "name": "stdout",
     "output_type": "stream",
     "text": [
      "The number is 7\n"
     ]
    }
   ],
   "source": [
    "# Write a program that asks the user for an input \n",
    "# and then prints out the input as a integer\n",
    "number = input(\"Give in a number: \")\n",
    "number = int(number)\n",
    "print(\"The number is\",number)\n"
   ]
  },
  {
   "attachments": {},
   "cell_type": "markdown",
   "metadata": {},
   "source": [
    "## Expressions"
   ]
  },
  {
   "cell_type": "code",
   "execution_count": 14,
   "metadata": {},
   "outputs": [
    {
     "name": "stdout",
     "output_type": "stream",
     "text": [
      "The total amout is  € 120000\n"
     ]
    }
   ],
   "source": [
    "# Steve is taking a loan and has to pay € 500 every month for 20 years\n",
    "# How much does he pay for his loan in total?\n",
    "total = 500\n",
    "total*=12\n",
    "total*=20\n",
    "print(\"The total amout is  €\",total)"
   ]
  },
  {
   "cell_type": "code",
   "execution_count": 21,
   "metadata": {},
   "outputs": [
    {
     "name": "stdout",
     "output_type": "stream",
     "text": [
      "False\n",
      "True\n",
      "False\n",
      "True\n"
     ]
    }
   ],
   "source": [
    "x = 5\n",
    "y = 6\n",
    "print(x==y)\n",
    "x+=1\n",
    "print(x==y)\n",
    "y*=5\n",
    "print(x>y)\n",
    "firstname = \"test\"\n",
    "lastname = \"Test\"\n",
    "print(lastname!=firstname)"
   ]
  },
  {
   "attachments": {},
   "cell_type": "markdown",
   "metadata": {},
   "source": [
    "## Built in functions"
   ]
  },
  {
   "cell_type": "code",
   "execution_count": 24,
   "metadata": {},
   "outputs": [
    {
     "name": "stdout",
     "output_type": "stream",
     "text": [
      "Your full name is Dries Geysens\n"
     ]
    }
   ],
   "source": [
    "# Ask the user for the full name and return it capitalized\n",
    "firstname = input(\"Give in your firstname: \")\n",
    "lastname = input(\"Give in your lastname: \")\n",
    "print(\"Your full name is\",firstname.capitalize(),lastname.capitalize())\n"
   ]
  },
  {
   "cell_type": "code",
   "execution_count": 28,
   "metadata": {},
   "outputs": [
    {
     "name": "stdout",
     "output_type": "stream",
     "text": [
      "You are 24 old\n"
     ]
    }
   ],
   "source": [
    "import datetime\n",
    "# ask the user for their birth year\n",
    "# Calculate how old they are\n",
    "birthyear = input(\"Give in your birthday: \")\n",
    "birthyear = int(birthyear)\n",
    "currentyear = datetime.datetime.now().year\n",
    "print(\"You are\",currentyear-birthyear,\"old\")"
   ]
  },
  {
   "cell_type": "code",
   "execution_count": 30,
   "metadata": {},
   "outputs": [
    {
     "name": "stdout",
     "output_type": "stream",
     "text": [
      "9\n"
     ]
    }
   ],
   "source": [
    "# Calculate the absolute value of a given input by a user\n",
    "number = input(\"Give in a number: \")\n",
    "print(abs(int(number)))"
   ]
  },
  {
   "attachments": {},
   "cell_type": "markdown",
   "metadata": {},
   "source": [
    "## If structure"
   ]
  },
  {
   "cell_type": "code",
   "execution_count": 32,
   "metadata": {},
   "outputs": [
    {
     "name": "stdout",
     "output_type": "stream",
     "text": [
      "Temperature in fahrenheit is 68.0\n"
     ]
    }
   ],
   "source": [
    "# Ask the user for a temperature in Celsius and print the temperature back in Fahrenheit\n",
    "celsius = input(\"Give in a temperature in celsius: \")\n",
    "fahrenheit = int(celsius)*1.8 +32\n",
    "print(\"Temperature in fahrenheit is\",fahrenheit)"
   ]
  },
  {
   "cell_type": "code",
   "execution_count": 38,
   "metadata": {},
   "outputs": [
    {
     "name": "stdout",
     "output_type": "stream",
     "text": [
      "You are allowed to drink, but not vote\n"
     ]
    }
   ],
   "source": [
    "# Ask the age of the user, legal drinking age = 16, voting = 18 \n",
    "# you're allowed to vote and drink\n",
    "# you're not allowed to vote, but you can drink -> is done\n",
    "# you're not allowed to vote and not allowed to drink\n",
    "age = int(input(\"Give in your age: \"))\n",
    "if age>=18:\n",
    "    print(\"You're allowed to vote and drink\")\n",
    "elif age<18 and age>=16:\n",
    "    print(\"You are allowed to drink, but not vote\")\n",
    "else:\n",
    "    print(\"You cannot drink and vote\")"
   ]
  },
  {
   "attachments": {},
   "cell_type": "markdown",
   "metadata": {},
   "source": [
    "## Loops"
   ]
  },
  {
   "attachments": {},
   "cell_type": "markdown",
   "metadata": {},
   "source": [
    "### For loop"
   ]
  },
  {
   "cell_type": "code",
   "execution_count": 40,
   "metadata": {},
   "outputs": [
    {
     "name": "stdout",
     "output_type": "stream",
     "text": [
      "0 * 5 = 0\n",
      "1 * 5 = 5\n",
      "2 * 5 = 10\n",
      "3 * 5 = 15\n",
      "4 * 5 = 20\n",
      "5 * 5 = 25\n",
      "6 * 5 = 30\n",
      "7 * 5 = 35\n",
      "8 * 5 = 40\n",
      "9 * 5 = 45\n",
      "10 * 5 = 50\n"
     ]
    }
   ],
   "source": [
    "#Write a program that prints the multiplication table for a number entered by the user. \n",
    "# The program should print the products of the number multiplied by 1 through 10.\n",
    "# 0 * 7 = 0\n",
    "# 1 * 7 = 7\n",
    "# 2 * 7 = 14\n",
    "number = int(input(\"Give in a number: \"))\n",
    "for i in range(0,11):\n",
    "    print(i,\"*\",number,\"=\",number*i)"
   ]
  },
  {
   "cell_type": "code",
   "execution_count": 44,
   "metadata": {},
   "outputs": [
    {
     "name": "stdout",
     "output_type": "stream",
     "text": [
      "2\n",
      "4\n",
      "6\n",
      "8\n",
      "10\n",
      "12\n",
      "14\n",
      "16\n",
      "18\n",
      "20\n"
     ]
    }
   ],
   "source": [
    "# Find the even numbers between 2 & 20\n",
    "# input: 2,3,4,5 etc.\n",
    "# output 2,4,6,8 etc.\n",
    "for number in range(2,21):\n",
    "    if number%2==0:\n",
    "        print(number)\n"
   ]
  },
  {
   "cell_type": "code",
   "execution_count": 45,
   "metadata": {},
   "outputs": [
    {
     "name": "stdout",
     "output_type": "stream",
     "text": [
      "3\n",
      "5\n",
      "7\n",
      "9\n",
      "11\n",
      "13\n",
      "15\n",
      "17\n",
      "19\n"
     ]
    }
   ],
   "source": [
    "# Find the odd numbers between 2 & 20\n",
    "# input: 2,3,4,5 etc.\n",
    "# output 2,4,6,8 etc.\n",
    "for number in range(2,21):\n",
    "    if number%2!=0:\n",
    "        print(number)\n"
   ]
  },
  {
   "cell_type": "code",
   "execution_count": 47,
   "metadata": {},
   "outputs": [
    {
     "name": "stdout",
     "output_type": "stream",
     "text": [
      "1\n",
      "1\n"
     ]
    }
   ],
   "source": []
  },
  {
   "attachments": {},
   "cell_type": "markdown",
   "metadata": {},
   "source": [
    "### While loop"
   ]
  },
  {
   "cell_type": "code",
   "execution_count": 51,
   "metadata": {},
   "outputs": [
    {
     "name": "stdout",
     "output_type": "stream",
     "text": [
      "the number is too low\n",
      "the number is too low\n",
      "the number is too low\n",
      "You guessed correctly\n"
     ]
    }
   ],
   "source": [
    "# Write a program that generates a random number between 1 and 100, and then asks the user to guess the number.\n",
    "# If the user's guess is too high, the program should print out \"Too high, try again.\" \n",
    "# If the user's guess is too low, the program should print out \"Too low, try again.\" \n",
    "# If the user's guess is correct, the program should print out \"Congratulations, you guessed the number!\"\n",
    "import random \n",
    "randomnumber =random.randrange(1,11)\n",
    "guess = int(input(\"Guess a number\"))\n",
    "while guess!=randomnumber:\n",
    "    if guess>randomnumber:\n",
    "        print(\"The number is too high\")\n",
    "        guess = int(input(\"Give in a another number\"))\n",
    "    elif guess<randomnumber:\n",
    "        print(\"the number is too low\")\n",
    "        guess = int(input(\"Give in a another number\"))\n",
    "print(\"You guessed correctly\")\n",
    "\n",
    "\n"
   ]
  },
  {
   "cell_type": "code",
   "execution_count": 52,
   "metadata": {},
   "outputs": [
    {
     "name": "stdout",
     "output_type": "stream",
     "text": [
      "6\n",
      "7\n",
      "8\n",
      "9\n",
      "10\n"
     ]
    }
   ],
   "source": [
    "x = 5\n",
    "while x<10:\n",
    "    x+=1\n",
    "    print(x)"
   ]
  },
  {
   "cell_type": "code",
   "execution_count": 58,
   "metadata": {},
   "outputs": [
    {
     "name": "stdout",
     "output_type": "stream",
     "text": [
      "The sum is 6\n"
     ]
    }
   ],
   "source": [
    "# Write a program that ask the user for a number as input. \n",
    "# When the user types \"x\", the program stops and prints out the numbers and the sum of all numbers\n",
    "# Example: 5 + 4 + 2 = 11\n",
    "number = input(\"Give in a number: \")\n",
    "sum = 0\n",
    "while not(number==\"x\"):\n",
    "    sum+=int(number)\n",
    "    number = input(\"Give in another number: \")\n",
    "print(\"The sum is\", sum)\n",
    "\n"
   ]
  },
  {
   "cell_type": "code",
   "execution_count": null,
   "metadata": {},
   "outputs": [],
   "source": []
  },
  {
   "attachments": {},
   "cell_type": "markdown",
   "metadata": {},
   "source": [
    " ## Combine conditions"
   ]
  },
  {
   "cell_type": "code",
   "execution_count": null,
   "metadata": {},
   "outputs": [],
   "source": [
    "# Write a program that asks the user for their age and prints out a message indicating \n",
    "# whether they are old enough to vote and/or to drink alcohol. \n",
    "# The legal drinking age is 16, and the legal voting age is 18."
   ]
  },
  {
   "cell_type": "code",
   "execution_count": null,
   "metadata": {},
   "outputs": [],
   "source": [
    "# Ask the user for their first & lastname.\n",
    "# Check whether the name is a alliteration\n",
    "# Ex. Patrick Peete -> alliteration!\n",
    "# Ex. Marie Mcgonnal -> alliteration!\n",
    "# Ex. Steve Potter -> not  a alliteration!\n"
   ]
  },
  {
   "cell_type": "code",
   "execution_count": null,
   "metadata": {},
   "outputs": [],
   "source": [
    "# What will the following statements print?\n",
    "x=5\n",
    "y=3\n",
    "print(not(x==y))\n",
    "print(x<y or x<10)\n",
    "y+=2\n",
    "print(x==y)\n",
    "print(x+y<10)\n",
    "x+=y\n",
    "print(x-y==7)"
   ]
  },
  {
   "cell_type": "code",
   "execution_count": null,
   "metadata": {},
   "outputs": [],
   "source": []
  }
 ],
 "metadata": {
  "kernelspec": {
   "display_name": "Python 3",
   "language": "python",
   "name": "python3"
  },
  "language_info": {
   "codemirror_mode": {
    "name": "ipython",
    "version": 3
   },
   "file_extension": ".py",
   "mimetype": "text/x-python",
   "name": "python",
   "nbconvert_exporter": "python",
   "pygments_lexer": "ipython3",
   "version": "3.9.5"
  },
  "orig_nbformat": 4,
  "vscode": {
   "interpreter": {
    "hash": "3377c1869ce9b875128992c4d4a0c4e1142ebfb59cc5d70d4b3cca9aeabfaa09"
   }
  }
 },
 "nbformat": 4,
 "nbformat_minor": 2
}
