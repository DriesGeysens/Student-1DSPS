{
 "cells": [
  {
   "attachments": {},
   "cell_type": "markdown",
   "metadata": {},
   "source": [
    "# Lesson 2"
   ]
  },
  {
   "attachments": {},
   "cell_type": "markdown",
   "metadata": {},
   "source": [
    "## Functions"
   ]
  },
  {
   "cell_type": "code",
   "execution_count": null,
   "metadata": {},
   "outputs": [],
   "source": [
    "# write a function that takes in a string argument and returns the string reversed."
   ]
  },
  {
   "cell_type": "code",
   "execution_count": 3,
   "metadata": {},
   "outputs": [
    {
     "name": "stdout",
     "output_type": "stream",
     "text": [
      "The square of 1 is 1\n",
      "The square of 2 is 4\n",
      "The square of 3 is 9\n",
      "The square of 4 is 16\n",
      "The square of 5 is 25\n",
      "The square of 6 is 36\n",
      "The square of 7 is 49\n",
      "The square of 8 is 64\n",
      "The square of 9 is 81\n",
      "The square of 10 is 100\n"
     ]
    }
   ],
   "source": [
    "# write a function that returns the square of the input number. Use this function in a loop from 1 until 10\n",
    "def square(x):\n",
    "    return x*x\n",
    "for i in range(1,11):\n",
    "    print(\"The square of\",i,\"is\",square(i))"
   ]
  },
  {
   "attachments": {},
   "cell_type": "markdown",
   "metadata": {},
   "source": [
    "## Collections"
   ]
  },
  {
   "attachments": {},
   "cell_type": "markdown",
   "metadata": {},
   "source": [
    "### Lists"
   ]
  },
  {
   "cell_type": "code",
   "execution_count": 5,
   "metadata": {},
   "outputs": [
    {
     "name": "stdout",
     "output_type": "stream",
     "text": [
      "You have a great taste!\n"
     ]
    }
   ],
   "source": [
    "# Ask the user for their favorite fruit. If it is in the following list (apple, pear, pineapple)\n",
    "# print \"you have good taste!\"\", otherwise print \"you have a terrible taste!\"\n",
    "fruits = [\"apple\",\"pear\",\"pineapple\"]\n",
    "favorite_fruit = input(\"Give in your favorite fruit: \")\n",
    "if favorite_fruit in fruits:\n",
    "    print(\"You have a great taste!\")\n",
    "else:\n",
    "    print(\"You have a terrible taste!\")\n"
   ]
  },
  {
   "cell_type": "code",
   "execution_count": 6,
   "metadata": {},
   "outputs": [
    {
     "name": "stdout",
     "output_type": "stream",
     "text": [
      "['ice cream', 'pizza', 'sushi']\n"
     ]
    }
   ],
   "source": [
    "# ask the user for grocery items as input, when the user types \"x\", the program quits\n",
    "# and displays all the items\n",
    "grocery_items = []\n",
    "item = input(\"Give in an item: \")\n",
    "while item!=\"x\":\n",
    "    grocery_items.append(item)\n",
    "    item = input(\"Give in an item: \")\n",
    "print(grocery_items)"
   ]
  },
  {
   "cell_type": "code",
   "execution_count": 9,
   "metadata": {},
   "outputs": [
    {
     "name": "stdout",
     "output_type": "stream",
     "text": [
      "Hello is 5 characters long\n"
     ]
    }
   ],
   "source": [
    "# Ask the user for a string, print how long the string is.\n",
    "text = input(\"Give in a text: \")\n",
    "print(text,\"is\",len(text),\"characters long\")"
   ]
  },
  {
   "cell_type": "code",
   "execution_count": 11,
   "metadata": {},
   "outputs": [
    {
     "name": "stdout",
     "output_type": "stream",
     "text": [
      "The word was not in the sentence\n"
     ]
    }
   ],
   "source": [
    "# Ask the user for a sentence, ask it then for a word.\n",
    "# print \"the word is in the sentence\" if the word was in the sentence\n",
    "sentence = input(\"Give in a sentence: \")\n",
    "word = input(\"Give in a word\")\n",
    "if word in sentence:\n",
    "    print(\"The word was in the sentence\")\n",
    "else:\n",
    "    print(\"The word was not in the sentence\")"
   ]
  },
  {
   "cell_type": "code",
   "execution_count": 13,
   "metadata": {},
   "outputs": [
    {
     "name": "stdout",
     "output_type": "stream",
     "text": [
      "The reverse of this Hello is: olleH\n"
     ]
    }
   ],
   "source": [
    "# Ask the user for an input, print the reverse of that.\n",
    "text = input(\"Give in a text: \")\n",
    "print(\"The reverse of this\",text,\"is:\",text[::-1])"
   ]
  },
  {
   "cell_type": "code",
   "execution_count": 20,
   "metadata": {},
   "outputs": [
    {
     "name": "stdout",
     "output_type": "stream",
     "text": [
      "[1, 4, 9]\n"
     ]
    }
   ],
   "source": [
    "# make a list of numbers and square them\n",
    "numbers = [1,2,3]\n",
    "print([x**2 for x in numbers])"
   ]
  },
  {
   "attachments": {},
   "cell_type": "markdown",
   "metadata": {},
   "source": [
    "## 2D List"
   ]
  },
  {
   "cell_type": "code",
   "execution_count": 22,
   "metadata": {},
   "outputs": [
    {
     "name": "stdout",
     "output_type": "stream",
     "text": [
      "\n",
      "1 2 3 \n",
      "4 5 6 \n",
      "7 8 9 "
     ]
    }
   ],
   "source": [
    "# print out the list as a matrix\n",
    "# 1 2 3\n",
    "# 4 5 6\n",
    "# 7 8 9\n",
    "list_of_lists = [ [1,2,3], [4,5,6], [7,8,9]]\n",
    "for list in list_of_lists:\n",
    "    print()\n",
    "    for x in list:\n",
    "        print(x,end=\" \")"
   ]
  },
  {
   "attachments": {},
   "cell_type": "markdown",
   "metadata": {},
   "source": [
    "## Tuple"
   ]
  },
  {
   "cell_type": "code",
   "execution_count": 23,
   "metadata": {},
   "outputs": [
    {
     "name": "stdout",
     "output_type": "stream",
     "text": [
      "sunday\n",
      "tuesday\n"
     ]
    }
   ],
   "source": [
    "# Create a tuple of all the days in the week\n",
    "# print out the last day of the week\n",
    "# print out the second day of the week\n",
    "weekday = (\"monday\",\"tuesday\",\"wednesday\",\"thursday\",\"friday\",\"saturday\",\"sunday\")\n",
    "print(weekday[-1])\n",
    "print(weekday[1])"
   ]
  },
  {
   "attachments": {},
   "cell_type": "markdown",
   "metadata": {},
   "source": [
    "## Set"
   ]
  },
  {
   "cell_type": "code",
   "execution_count": 25,
   "metadata": {},
   "outputs": [
    {
     "name": "stdout",
     "output_type": "stream",
     "text": [
      "{'item', 'tes', 'test'}\n"
     ]
    }
   ],
   "source": [
    "# ask the user for grocery items as input, when the user types \"x\", the program quits\n",
    "# and displays all the UNIQUE items\n",
    "grocery_items = set()\n",
    "item = input(\"Give in an item: \")\n",
    "while item!=\"x\":\n",
    "    grocery_items.add(item)\n",
    "    item = input(\"Give in an item: \")\n",
    "print(grocery_items)"
   ]
  },
  {
   "cell_type": "code",
   "execution_count": 26,
   "metadata": {},
   "outputs": [
    {
     "name": "stdout",
     "output_type": "stream",
     "text": [
      "{1, 2, 3, 4}\n"
     ]
    }
   ],
   "source": [
    "# create a list of numbers and print out the unique ones\n",
    "numbers = [1,2,3,2,1,4]\n",
    "print(set(numbers)) # converting a list to a set will get the unique values"
   ]
  },
  {
   "attachments": {},
   "cell_type": "markdown",
   "metadata": {},
   "source": [
    "## Dictionary"
   ]
  },
  {
   "cell_type": "code",
   "execution_count": 27,
   "metadata": {},
   "outputs": [
    {
     "name": "stdout",
     "output_type": "stream",
     "text": [
      "{'abc': 48}\n"
     ]
    }
   ],
   "source": [
    "# Create a dictionary that maps names to ages. Ask for the user name and if the user is present in \n",
    "# the dictionary return their age\n",
    "personal_details = {}\n",
    "name = input(\"Give in your name: \")\n",
    "age = int(input(\"Give in your age (in years): \"))\n",
    "personal_details[name]=age\n",
    "print(personal_details)"
   ]
  },
  {
   "cell_type": "code",
   "execution_count": 35,
   "metadata": {},
   "outputs": [
    {
     "name": "stdout",
     "output_type": "stream",
     "text": [
      "{'pineapple': 'yellow', 'grapes': 'purple'}\n"
     ]
    }
   ],
   "source": [
    "# Remove the green fruits from the dictionary\n",
    "# {'apple': 'green','pineapple': 'yellow','grapes' : 'purple', 'pear' : 'green'}\n",
    "fruits = {'apple': 'green','pineapple': 'yellow','grapes' : 'purple', 'pear' : 'green'}\n",
    "\n",
    "non_green_fruits = {fruit: color for fruit, color in fruits.items() if color != 'green'}\n",
    "\n",
    "# print the new dictionary\n",
    "print(non_green_fruits)\n"
   ]
  },
  {
   "cell_type": "code",
   "execution_count": 37,
   "metadata": {},
   "outputs": [
    {
     "name": "stdout",
     "output_type": "stream",
     "text": [
      "{'r03126351': 'Dries', 'r025852025852': 'Theo'}\n"
     ]
    }
   ],
   "source": [
    "# Ask the user to give in a student number and a student until the user types \"x\" for a student number\n",
    "# Then print out all of the student & student numbers.\n",
    "studentdb = {}\n",
    "studentnumber = input(\"Give in your studentnumber: \")\n",
    "studentname = input(\"Give in your name\")\n",
    "while studentnumber!=\"x\":\n",
    "        studentdb[studentnumber] = studentname\n",
    "        studentnumber = input(\"Give in your studentnumber (type 'x' to quit): \")\n",
    "        studentname = input(\"Give in your name (type 'x' to quit): \")\n",
    "print(studentdb)"
   ]
  },
  {
   "attachments": {},
   "cell_type": "markdown",
   "metadata": {},
   "source": [
    "## Extra Exercises"
   ]
  },
  {
   "attachments": {},
   "cell_type": "markdown",
   "metadata": {},
   "source": [
    "- Write a program to verify if a number is a prime. Now check for the first 10 natural numbers.\n",
    "- Find the student with the highest points\n",
    "{\"Steve\": 10, \"Boris\": 12, \"Achmed\": 15, \"An\": 5}\n",
    "- Checking if a string is a palindrome\n",
    "- Finding the average of a list\n",
    "- Count the frequency of characters in a string."
   ]
  },
  {
   "cell_type": "code",
   "execution_count": 5,
   "metadata": {},
   "outputs": [
    {
     "name": "stdout",
     "output_type": "stream",
     "text": [
      "The number 1 is a prime\n",
      "The number 2 is a prime\n",
      "The number 3 is a prime\n",
      "The number 4 is not a prime\n",
      "The number 5 is a prime\n",
      "The number 6 is not a prime\n",
      "The number 7 is a prime\n",
      "The number 8 is not a prime\n",
      "The number 9 is not a prime\n",
      "The number 10 is not a prime\n"
     ]
    }
   ],
   "source": [
    "def isPrime(number):\n",
    "    for i in range(2,number):\n",
    "        if number%i==0:\n",
    "            return False\n",
    "    return True\n",
    "isPrime(7)\n",
    "#number = 10\n",
    "# i = 5\n",
    "# 10/5 = 2 + no remainder: modula = 0\n",
    "for i in range(1,11):\n",
    "    if isPrime(i):\n",
    "        print(\"The number\",i,\"is a prime\")\n",
    "    else:\n",
    "        print(\"The number\",i,\"is not a prime\")\n",
    "\n"
   ]
  },
  {
   "cell_type": "code",
   "execution_count": 8,
   "metadata": {},
   "outputs": [
    {
     "name": "stdout",
     "output_type": "stream",
     "text": [
      "The student with the highest points is Achmed\n"
     ]
    }
   ],
   "source": [
    "students = {\"Steve\": 10, \"Boris\": 12, \"Achmed\": 15, \"An\": 5}\n",
    "\n",
    "# Calculate the highest value\n",
    "max = 0\n",
    "best_student = \"\"\n",
    "for student,points in students.items():\n",
    "    if max<points:\n",
    "        max = points\n",
    "        best_student = student \n",
    "\n",
    "print(\"The student with the highest points is\",best_student)\n",
    "\n"
   ]
  },
  {
   "cell_type": "code",
   "execution_count": 10,
   "metadata": {},
   "outputs": [
    {
     "name": "stdout",
     "output_type": "stream",
     "text": [
      "{'H': 1, 'e': 1, 'l': 3, 'o': 2, ' ': 1, 'W': 1, 'r': 1, 'd': 1}\n"
     ]
    }
   ],
   "source": [
    "# Count the frequency of characters in a string.\n",
    "# Hello world -> {\"H\":1,\"e\": 1 etc.}\n",
    "sentence = \"Hello World\"\n",
    "frequency_characters = dict()\n",
    "for character in sentence:\n",
    "    if character in frequency_characters:\n",
    "        frequency_characters[character]+=1\n",
    "    else:\n",
    "        frequency_characters[character]=1\n",
    "print(frequency_characters)\n",
    "    \n"
   ]
  },
  {
   "cell_type": "code",
   "execution_count": null,
   "metadata": {},
   "outputs": [],
   "source": []
  }
 ],
 "metadata": {
  "kernelspec": {
   "display_name": "Python 3",
   "language": "python",
   "name": "python3"
  },
  "language_info": {
   "codemirror_mode": {
    "name": "ipython",
    "version": 3
   },
   "file_extension": ".py",
   "mimetype": "text/x-python",
   "name": "python",
   "nbconvert_exporter": "python",
   "pygments_lexer": "ipython3",
   "version": "3.9.5"
  },
  "orig_nbformat": 4,
  "vscode": {
   "interpreter": {
    "hash": "3377c1869ce9b875128992c4d4a0c4e1142ebfb59cc5d70d4b3cca9aeabfaa09"
   }
  }
 },
 "nbformat": 4,
 "nbformat_minor": 2
}
