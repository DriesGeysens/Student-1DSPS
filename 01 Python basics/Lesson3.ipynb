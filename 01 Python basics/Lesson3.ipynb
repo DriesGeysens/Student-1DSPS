{
 "cells": [
  {
   "attachments": {},
   "cell_type": "markdown",
   "metadata": {},
   "source": [
    "# Lesson 3"
   ]
  },
  {
   "attachments": {},
   "cell_type": "markdown",
   "metadata": {},
   "source": [
    "## Importing Libraries"
   ]
  },
  {
   "cell_type": "code",
   "execution_count": 2,
   "metadata": {},
   "outputs": [],
   "source": [
    "import numpy as np # make sure numpy is installed by using pip install numpy\n"
   ]
  },
  {
   "attachments": {},
   "cell_type": "markdown",
   "metadata": {},
   "source": [
    "- Libraries are super useful and quick to use if you want some specific functionality\n",
    "- Where to find all libraries? ​https://pypi.org/ \n",
    "- check out the documentation\n",
    "- How to use a library? Install library (pip-command!) pip install libray\n",
    "- Import library in script: import \\<library\\> \n",
    "- Put your import above, so you have an overview\n"
   ]
  },
  {
   "cell_type": "code",
   "execution_count": 3,
   "metadata": {},
   "outputs": [
    {
     "name": "stdout",
     "output_type": "stream",
     "text": [
      "10\n",
      "2023-02-27 15:11:15.624717\n"
     ]
    }
   ],
   "source": [
    "# import standard libraries => do not need to download, just use import\n",
    "import random as rd\n",
    "import math \n",
    "import datetime \n",
    "# print a random number from 0 to 10\n",
    "print(rd.randrange(0,11))\n",
    "# print the current date & time\n",
    "print(datetime.datetime.now())"
   ]
  },
  {
   "cell_type": "code",
   "execution_count": 4,
   "metadata": {},
   "outputs": [],
   "source": [
    "import numpy\n",
    "import numpy as np\n",
    "# import a single functionality from the package\n",
    "from numpy import arange "
   ]
  },
  {
   "attachments": {},
   "cell_type": "markdown",
   "metadata": {},
   "source": [
    "## Numpy"
   ]
  },
  {
   "cell_type": "code",
   "execution_count": 6,
   "metadata": {},
   "outputs": [
    {
     "name": "stdout",
     "output_type": "stream",
     "text": [
      "[1 2 3 4 5 6 7 8]\n"
     ]
    }
   ],
   "source": [
    "# Create an array and print it\n",
    "array = np.array([1, 2, 3, 4, 5, 6, 7, 8])\n",
    "print(array)\n"
   ]
  },
  {
   "attachments": {},
   "cell_type": "markdown",
   "metadata": {},
   "source": [
    "### types"
   ]
  },
  {
   "cell_type": "code",
   "execution_count": 6,
   "metadata": {},
   "outputs": [
    {
     "name": "stdout",
     "output_type": "stream",
     "text": [
      "<class 'numpy.ndarray'>\n",
      "int32\n",
      "[1. 2. 3. 4. 5. 6. 7. 8.]\n",
      "<class 'numpy.ndarray'>\n",
      "<U5\n"
     ]
    }
   ],
   "source": [
    "# An array is fixed sized and the elements are always the same type\n",
    "array = np.array([1, 2, 3, 4, 5, 6, 7, 8])\n",
    "print(type(array)) # numpy array\n",
    "print(array.dtype) # int32\n",
    "# conversion to float\n",
    "print(array.astype('f'))\n",
    "string_array = np.array([\"Hello\",\"World\"])\n",
    "print(type(string_array)) # numpy array\n",
    "print(string_array.dtype) # U5 = unicode string of 5 bytes\n",
    "\"\"\"\n",
    "from https://www.w3schools.com/python/numpy/numpy_data_types.asp\n",
    "NumPy has some extra data types, and refer to data types with one character, like i for integers, u for unsigned integers etc.\n",
    "Below is a list of all data types in NumPy and the characters used to represent them.\n",
    "    i - integer\n",
    "    b - boolean\n",
    "    u - unsigned integer\n",
    "    f - float\n",
    "    c - complex float\n",
    "    m - timedelta\n",
    "    M - datetime\n",
    "    O - object\n",
    "    S - string\n",
    "    U - unicode string\n",
    "    V - fixed chunk of memory for other type ( void )\n",
    "\"\"\"\n",
    "# when converting always make sure that the conversion is possible:\n",
    "# Converting the following array to an integer will result in an error\n",
    "# number_array = np.array('a','b','c') -> ERROR\n",
    "# You cannot convert 'a' to an Integer"
   ]
  },
  {
   "cell_type": "code",
   "execution_count": 12,
   "metadata": {},
   "outputs": [
    {
     "name": "stdout",
     "output_type": "stream",
     "text": [
      "[1, 2, 3, 1, 2, 3]\n",
      "[2 4 6]\n"
     ]
    }
   ],
   "source": [
    "# Differences between list & array\n",
    "numbers_list = [1,2,3]\n",
    "numbers_array = np.array([1,2,3])\n",
    "print(numbers_list*2)\n",
    "print(numbers_array*2)"
   ]
  },
  {
   "cell_type": "markdown",
   "metadata": {},
   "source": [
    "### Common functions"
   ]
  },
  {
   "cell_type": "code",
   "execution_count": 7,
   "metadata": {},
   "outputs": [
    {
     "name": "stdout",
     "output_type": "stream",
     "text": [
      "(2, 3)\n",
      "[[1 2 3]\n",
      " [4 5 6]]\n",
      "2\n"
     ]
    }
   ],
   "source": [
    "# shape\n",
    "numbers_array = np.array([[1,2,3],[4,5,6]])\n",
    "print(numbers_array.shape)\n",
    "print(numbers_array)\n",
    "# dimensions (count of the shape)\n",
    "print(\"The dimension of the array is\",numbers_array.ndim)"
   ]
  },
  {
   "cell_type": "code",
   "execution_count": 13,
   "metadata": {},
   "outputs": [
    {
     "name": "stdout",
     "output_type": "stream",
     "text": [
      "[0 2 4 6]\n",
      "[[0. 0.]\n",
      " [0. 0.]]\n"
     ]
    }
   ],
   "source": [
    "# Fill up an array by starting at 0 and adding 2 everytime until you hit 6 (7-1) -> exlusive\n",
    "numbers = np.arange(0,7,2)\n",
    "print(numbers)\n",
    "# Fill up an 2D array with zeros\n",
    "numbers = np.zeros((2,2))\n",
    "print(numbers)"
   ]
  },
  {
   "cell_type": "code",
   "execution_count": 14,
   "metadata": {},
   "outputs": [
    {
     "name": "stdout",
     "output_type": "stream",
     "text": [
      "[[4 4]\n",
      " [4 4]\n",
      " [4 4]\n",
      " [4 4]\n",
      " [4 4]]\n",
      "[[1. 0. 0. 0.]\n",
      " [0. 1. 0. 0.]\n",
      " [0. 0. 1. 0.]\n",
      " [0. 0. 0. 1.]]\n"
     ]
    }
   ],
   "source": [
    "# Fill up an array with 5 rows and two columns with the number \"4\"\n",
    "print(np.full((5,2), 4))\n",
    "# prints out a matrix (2d array) of 0s with a diagonal 1\n",
    "print(np.eye(4))"
   ]
  },
  {
   "cell_type": "code",
   "execution_count": 2,
   "metadata": {},
   "outputs": [
    {
     "name": "stdout",
     "output_type": "stream",
     "text": [
      "[[ 0  0  1  1]\n",
      " [ 2 10  0  9]\n",
      " [ 5 10  4 10]\n",
      " [ 1  1  7  5]\n",
      " [ 3 10 10  1]]\n",
      "[[ 5 10  4 10]\n",
      " [ 1  1  7  5]]\n",
      "[3 4]\n"
     ]
    }
   ],
   "source": [
    "# slicing\n",
    "array = np.random.randint(0,11,(5,4)) # create random array\n",
    "print(array)\n",
    "print(array[2:4]) # print the index 2 of the rows (third row) until the index 4 of the rows.\n"
   ]
  },
  {
   "cell_type": "code",
   "execution_count": 32,
   "metadata": {},
   "outputs": [
    {
     "name": "stdout",
     "output_type": "stream",
     "text": [
      "[[0.71010124 0.41626439 0.8768812  0.62473825]]\n",
      "[[-4 -2 -6  8]\n",
      " [-2  2 -5  7]\n",
      " [-4  9  1  0]\n",
      " [-7  5 -2 -1]]\n"
     ]
    }
   ],
   "source": [
    "# Random\n",
    "# Create a array with one row and 4 columns \n",
    "# filled with random float numbers between 0 and 1\n",
    "print(np.random.random((1,4))) \n",
    "# Create an array with 4 rows and 4 columns\n",
    "# filled with random integers between -10 and 10 (exclusive)                                   \n",
    "print(np.random.randint(-10, 10, (4,4)))  "
   ]
  },
  {
   "cell_type": "code",
   "execution_count": 21,
   "metadata": {},
   "outputs": [
    {
     "name": "stdout",
     "output_type": "stream",
     "text": [
      "[2 2 4 6 6 6 8 8]\n"
     ]
    }
   ],
   "source": [
    "# where function\n",
    "array = np.array([1, 2, 3, 5, 5, 6, 7, 8])\n",
    "# where the array are odd add one, else output the same element back\n",
    "# Will result in an array full with even numbers\n",
    "print(np.where(array%2==1,array+1,array)) \n"
   ]
  },
  {
   "cell_type": "code",
   "execution_count": 33,
   "metadata": {},
   "outputs": [
    {
     "name": "stdout",
     "output_type": "stream",
     "text": [
      "sum 37\n",
      "min 1\n",
      "max 8\n",
      "sqrt [1.         1.41421356 1.73205081 2.23606798 2.23606798 2.44948974\n",
      " 2.64575131 2.82842712]\n",
      "cum sum [ 1  3  6 11 16 22 29 37]\n",
      "power [ 1  4  9 25 25 36 49 64]\n",
      "True\n"
     ]
    }
   ],
   "source": [
    "# sum, min, max, sqrt, cumsum\n",
    "array = np.array([1, 2, 3, 5, 5, 6, 7, 8])\n",
    "print(\"sum\",array.sum())\n",
    "print(\"min\",array.min())\n",
    "print(\"max\",array.max())\n",
    "print(\"sqrt\",np.sqrt(array)) # Take the square root of all the elements in an array\n",
    "print(\"cum sum\",array.cumsum()) # sum cumulative. For more information: see https://mathworld.wolfram.com/CumulativeSum.html\n",
    "print(\"power\",np.power(array,2)) # square all elements in an array\n",
    "print(np.any(array > 3)) # Is any element bigger than 3 -> True\n",
    "print(np.all(array > 3)) # Are all elements bigger than 3 -> False\n"
   ]
  },
  {
   "attachments": {},
   "cell_type": "markdown",
   "metadata": {},
   "source": [
    "## Pythonic code"
   ]
  },
  {
   "cell_type": "code",
   "execution_count": 54,
   "metadata": {},
   "outputs": [
    {
     "name": "stdout",
     "output_type": "stream",
     "text": [
      "The Zen of Python, by Tim Peters\n",
      "\n",
      "Beautiful is better than ugly.\n",
      "Explicit is better than implicit.\n",
      "Simple is better than complex.\n",
      "Complex is better than complicated.\n",
      "Flat is better than nested.\n",
      "Sparse is better than dense.\n",
      "Readability counts.\n",
      "Special cases aren't special enough to break the rules.\n",
      "Although practicality beats purity.\n",
      "Errors should never pass silently.\n",
      "Unless explicitly silenced.\n",
      "In the face of ambiguity, refuse the temptation to guess.\n",
      "There should be one-- and preferably only one --obvious way to do it.\n",
      "Although that way may not be obvious at first unless you're Dutch.\n",
      "Now is better than never.\n",
      "Although never is often better than *right* now.\n",
      "If the implementation is hard to explain, it's a bad idea.\n",
      "If the implementation is easy to explain, it may be a good idea.\n",
      "Namespaces are one honking great idea -- let's do more of those!\n",
      "{'A': 'N', 'B': 'O', 'C': 'P', 'D': 'Q', 'E': 'R', 'F': 'S', 'G': 'T', 'H': 'U', 'I': 'V', 'J': 'W', 'K': 'X', 'L': 'Y', 'M': 'Z', 'N': 'A', 'O': 'B', 'P': 'C', 'Q': 'D', 'R': 'E', 'S': 'F', 'T': 'G', 'U': 'H', 'V': 'I', 'W': 'J', 'X': 'K', 'Y': 'L', 'Z': 'M', 'a': 'n', 'b': 'o', 'c': 'p', 'd': 'q', 'e': 'r', 'f': 's', 'g': 't', 'h': 'u', 'i': 'v', 'j': 'w', 'k': 'x', 'l': 'y', 'm': 'z', 'n': 'a', 'o': 'b', 'p': 'c', 'q': 'd', 'r': 'e', 's': 'f', 't': 'g', 'u': 'h', 'v': 'i', 'w': 'j', 'x': 'k', 'y': 'l', 'z': 'm'}\n"
     ]
    }
   ],
   "source": [
    "# The zen of Pyton, by Tim Peters\n",
    "import this \n",
    "print(this.d)"
   ]
  },
  {
   "cell_type": "code",
   "execution_count": 32,
   "metadata": {},
   "outputs": [
    {
     "name": "stdout",
     "output_type": "stream",
     "text": [
      "1\n",
      "58\n",
      "46\n",
      "2\n",
      "45\n"
     ]
    }
   ],
   "source": [
    "# Pythonic looping\n",
    "# Use the following for a for loop\n",
    "random_numbers = [1,58,46,2,45]\n",
    "for number in random_numbers:\n",
    "    print(number)\n",
    "\n",
    "\"\"\"\n",
    "Bad practice! Don't do the following:\n",
    "random_numbers = [1,58,46,2,45]\n",
    "for i in range(0,len(random_numbers)):\n",
    "    print(random_numbers[i])\n",
    "\"\"\"\n",
    "#Pythonic dictionaries\n",
    "\n",
    "data = [\"apple\",\"banana\",\"mango\",\"kiwi\"]\n",
    "colors = [\"green\", \"yellow\",\"orange\", \"green\"]\n",
    "\n",
    "# Create a dictionary of pairs\n",
    "dc = dict(zip(data, colors))\n",
    "\n",
    "\n",
    "# Loop dictionary\n",
    "for key, val in dc.items():\n",
    "    print(key, val)\n",
    "\n",
    "# Not pythonic: DONT USE\n",
    "\n",
    "# Create a dictionary of pairs\n",
    "dc = {}\n",
    "for key, val in zip(data, colors):\n",
    "    dc[key] = val\n",
    "\n",
    "# Loop dictionary\n",
    "for key in dc:\n",
    "    print(key, dc[key])\n",
    "\n"
   ]
  },
  {
   "attachments": {},
   "cell_type": "markdown",
   "metadata": {},
   "source": [
    "## Extra exercises        "
   ]
  },
  {
   "attachments": {},
   "cell_type": "markdown",
   "metadata": {},
   "source": [
    "- Merge two arrays of integers into one, sorted in ascending order.\n",
    "- Reverse the order of elements in an array of integers.\n",
    "- Count the number of even and odd numbers in an array of integers.\n",
    "- Find the second largest number in an array of integers."
   ]
  },
  {
   "cell_type": "code",
   "execution_count": 35,
   "metadata": {},
   "outputs": [
    {
     "name": "stdout",
     "output_type": "stream",
     "text": [
      "[2 3 5 5 8 7 0]\n",
      "The even numbers:  3\n",
      "The odd numbers:  4\n",
      "3\n"
     ]
    }
   ],
   "source": [
    "# - Count the number of even and odd numbers \n",
    "# in an array of integers.\n",
    "random_array = np.random.randint(0,11,(7,))\n",
    "print(random_array)\n",
    "even_numbers = 0\n",
    "for i in random_array:\n",
    "    if i%2==0:\n",
    "        even_numbers+=1\n",
    "print(\"The even numbers: \",even_numbers)\n",
    "print(\"The odd numbers: \",len(random_array)-even_numbers)\n",
    "# How to do it easier in numpy?\n",
    "# get all the numbers that satisfy the condition random_array % 2 == 0\n",
    "# Sum these conditions together\n",
    "# True = 1, False = 0\n",
    "# So for array [2 3 5 5 8 7 0]\n",
    "# You get array [True False False False True False True]\n",
    "# When you sum these together the sum function counts True as 1\n",
    "# and False as 0. So the sum is the amount of even numbers \n",
    "even_count = np.sum(random_array % 2 == 0) \n",
    "print(even_count)"
   ]
  },
  {
   "cell_type": "code",
   "execution_count": 72,
   "metadata": {},
   "outputs": [
    {
     "name": "stdout",
     "output_type": "stream",
     "text": [
      "[ 9 10  3  3  7  6  1]\n",
      "The reverse:  [ 1  6  7  3  3 10  9]\n"
     ]
    }
   ],
   "source": [
    "#Reverse the order of elements in an array of integers.\n",
    "random_array = np.random.randint(0,11,(7,))\n",
    "print(random_array)\n",
    "# use the -1 step to get the reverse of the array\n",
    "print(\"The reverse: \",random_array[::-1])"
   ]
  },
  {
   "cell_type": "code",
   "execution_count": 36,
   "metadata": {},
   "outputs": [
    {
     "name": "stdout",
     "output_type": "stream",
     "text": [
      "[ 5  5  2 10  9  3  1]\n",
      "35\n",
      "35\n"
     ]
    }
   ],
   "source": [
    "# Calculate the sum of an array\n",
    "random_array = np.random.randint(0,11,(7,))\n",
    "print(random_array)\n",
    "print(random_array.sum())\n",
    "# alternative way\n",
    "print(np.sum(random_array))"
   ]
  }
 ],
 "metadata": {
  "kernelspec": {
   "display_name": "Python 3",
   "language": "python",
   "name": "python3"
  },
  "language_info": {
   "codemirror_mode": {
    "name": "ipython",
    "version": 3
   },
   "file_extension": ".py",
   "mimetype": "text/x-python",
   "name": "python",
   "nbconvert_exporter": "python",
   "pygments_lexer": "ipython3",
   "version": "3.9.5"
  },
  "orig_nbformat": 4,
  "vscode": {
   "interpreter": {
    "hash": "3377c1869ce9b875128992c4d4a0c4e1142ebfb59cc5d70d4b3cca9aeabfaa09"
   }
  }
 },
 "nbformat": 4,
 "nbformat_minor": 2
}
