{
 "cells": [
  {
   "attachments": {},
   "cell_type": "markdown",
   "metadata": {},
   "source": [
    "# Lesson 1"
   ]
  },
  {
   "attachments": {},
   "cell_type": "markdown",
   "metadata": {},
   "source": [
    "## Input"
   ]
  },
  {
   "cell_type": "code",
   "execution_count": 1,
   "metadata": {},
   "outputs": [
    {
     "name": "stdout",
     "output_type": "stream",
     "text": [
      "Hello Dries, your age is 24\n"
     ]
    }
   ],
   "source": [
    "# Let the user give in their name & age & print those with a welcome message\n",
    "name = input(\"Enter your name: \")\n",
    "age = input(\"Enter your age: \")\n",
    "print(f\"Hello {name}, your age is {age}\")"
   ]
  },
  {
   "attachments": {},
   "cell_type": "markdown",
   "metadata": {},
   "source": [
    "## Variables"
   ]
  },
  {
   "cell_type": "code",
   "execution_count": 11,
   "metadata": {},
   "outputs": [
    {
     "name": "stdout",
     "output_type": "stream",
     "text": [
      "The number is 7\n"
     ]
    }
   ],
   "source": [
    "# Write a program that asks the user for an input \n",
    "# and then prints out the input as a integer\n",
    "number = input(\"Give in a number: \")\n",
    "number = int(number)\n",
    "print(\"The number is\",number)\n",
    "# can also be written shorter:\n",
    "# number = int(input(\"Give in a number: \"))\n",
    "# print(\"The number is\",number)\n"
   ]
  },
  {
   "attachments": {},
   "cell_type": "markdown",
   "metadata": {},
   "source": [
    "## Expressions"
   ]
  },
  {
   "cell_type": "code",
   "execution_count": 14,
   "metadata": {},
   "outputs": [
    {
     "name": "stdout",
     "output_type": "stream",
     "text": [
      "The total amout is  € 120000\n"
     ]
    }
   ],
   "source": [
    "# Steve is taking a loan and has to pay € 500 every month for 20 years\n",
    "# How much does he pay for his loan in total?\n",
    "total = 500\n",
    "total*=12\n",
    "total*=20\n",
    "print(\"The total amout is  €\",total)"
   ]
  },
  {
   "cell_type": "code",
   "execution_count": 2,
   "metadata": {},
   "outputs": [
    {
     "name": "stdout",
     "output_type": "stream",
     "text": [
      "False\n",
      "True\n",
      "False\n",
      "True\n"
     ]
    }
   ],
   "source": [
    "x = 5\n",
    "y = 6\n",
    "print(x==y) # False\n",
    "x+=1\n",
    "print(x==y) # True\n",
    "y*=5\n",
    "print(x>y) # False\n",
    "firstname = \"test\"\n",
    "lastname = \"Test\"\n",
    "print(lastname!=firstname) # True"
   ]
  },
  {
   "attachments": {},
   "cell_type": "markdown",
   "metadata": {},
   "source": [
    "## Built in functions"
   ]
  },
  {
   "cell_type": "code",
   "execution_count": 24,
   "metadata": {},
   "outputs": [
    {
     "name": "stdout",
     "output_type": "stream",
     "text": [
      "Your full name is Dries Geysens\n"
     ]
    }
   ],
   "source": [
    "# Ask the user for their first & last name and return it capitalized (first letter in uppercase, other in lowercase)\n",
    "firstname = input(\"Give in your firstname: \")\n",
    "lastname = input(\"Give in your lastname: \")\n",
    "print(\"Your full name is\",firstname.capitalize(),lastname.capitalize())\n"
   ]
  },
  {
   "cell_type": "code",
   "execution_count": 28,
   "metadata": {},
   "outputs": [
    {
     "name": "stdout",
     "output_type": "stream",
     "text": [
      "You are 24 old\n"
     ]
    }
   ],
   "source": [
    "import datetime # import datetime library, this includes some functions we need\n",
    "# ask the user for their birth year\n",
    "# Calculate how old they are\n",
    "birthyear = input(\"Give in your birthday: \")\n",
    "birthyear = int(birthyear)\n",
    "currentyear = datetime.datetime.now().year\n",
    "print(\"You are\",currentyear-birthyear,\"old\")"
   ]
  },
  {
   "cell_type": "code",
   "execution_count": 30,
   "metadata": {},
   "outputs": [
    {
     "name": "stdout",
     "output_type": "stream",
     "text": [
      "9\n"
     ]
    }
   ],
   "source": [
    "# Calculate the absolute value of a given input by a user\n",
    "number = input(\"Give in a number: \")\n",
    "print(abs(int(number)))"
   ]
  },
  {
   "cell_type": "code",
   "execution_count": null,
   "metadata": {},
   "outputs": [
    {
     "name": "stdout",
     "output_type": "stream",
     "text": [
      "Temperature in fahrenheit is 68.0\n"
     ]
    }
   ],
   "source": [
    "# Ask the user for a temperature in Celsius and print the temperature back in Fahrenheit\n",
    "celsius = input(\"Give in a temperature in celsius: \")\n",
    "fahrenheit = int(celsius)*1.8 +32\n",
    "print(\"Temperature in fahrenheit is\",fahrenheit)"
   ]
  },
  {
   "attachments": {},
   "cell_type": "markdown",
   "metadata": {},
   "source": [
    "## If structure"
   ]
  },
  {
   "cell_type": "code",
   "execution_count": 37,
   "metadata": {},
   "outputs": [
    {
     "name": "stdout",
     "output_type": "stream",
     "text": [
      "You are allowed to drink\n"
     ]
    }
   ],
   "source": [
    "# Ask the age of the user, check if they can drink and vote\n",
    "# legal drinking age = 16, voting = 18 \n",
    "# Possibilities \n",
    "# you're allowed to vote and drink \n",
    "# you're not allowed to vote, but you can drink\n",
    "# you're not allowed to vote and not allowed to drink\n",
    "age = int(input(\"Give in your age: \"))\n",
    "if age>=18:\n",
    "    print(\"You're allowed to vote and drink\")\n",
    "elif age<18 and age>=16:\n",
    "    print(\"You are allowed to drink, but not vote\")\n",
    "else:\n",
    "    print(\"You cannot drink and vote\")"
   ]
  },
  {
   "attachments": {},
   "cell_type": "markdown",
   "metadata": {},
   "source": [
    "## Loops"
   ]
  },
  {
   "attachments": {},
   "cell_type": "markdown",
   "metadata": {},
   "source": [
    "### For loop"
   ]
  },
  {
   "cell_type": "code",
   "execution_count": 4,
   "metadata": {},
   "outputs": [
    {
     "name": "stdout",
     "output_type": "stream",
     "text": [
      "1 * 7 = 7\n",
      "2 * 7 = 14\n",
      "3 * 7 = 21\n",
      "4 * 7 = 28\n",
      "5 * 7 = 35\n",
      "6 * 7 = 42\n",
      "7 * 7 = 49\n",
      "8 * 7 = 56\n",
      "9 * 7 = 63\n",
      "10 * 7 = 70\n"
     ]
    }
   ],
   "source": [
    "#Write a program that prints the multiplication table for a number entered by the user. \n",
    "# The program should print the products of the number multiplied by 1 through 10.\n",
    "number = int(input(\"Give in a number: \"))\n",
    "for i in range(1,11):\n",
    "    print(i,\"*\",number,\"=\",i*number)"
   ]
  },
  {
   "cell_type": "code",
   "execution_count": 5,
   "metadata": {},
   "outputs": [
    {
     "name": "stdout",
     "output_type": "stream",
     "text": [
      "2\n",
      "4\n",
      "6\n",
      "8\n",
      "10\n",
      "12\n",
      "14\n",
      "16\n",
      "18\n",
      "20\n"
     ]
    }
   ],
   "source": [
    "# Find the even numbers between 2 & 20\n",
    "for i in range(2,21):\n",
    "    if i%2==0:\n",
    "        # Number is even\n",
    "        print(i)"
   ]
  },
  {
   "attachments": {},
   "cell_type": "markdown",
   "metadata": {},
   "source": [
    "### While loop"
   ]
  },
  {
   "cell_type": "code",
   "execution_count": 8,
   "metadata": {},
   "outputs": [
    {
     "name": "stdout",
     "output_type": "stream",
     "text": [
      "Too low, try again.\n",
      "Too low, try again.\n",
      "Congratulations, you guessed the number!\n"
     ]
    }
   ],
   "source": [
    "# Write a program that generates a random number between 1 and 10, and then asks the user to guess the number.\n",
    "# If the user's guess is too high, the program should print out \"Too high, try again.\" \n",
    "# If the user's guess is too low, the program should print out \"Too low, try again.\" \n",
    "# If the user's guess is correct, the program should print out \"Congratulations, you guessed the number!\"\n",
    "import random # Import an extra library for added functionality ( in this case to get random numbers)\n",
    "number = random.randint(0,11) \n",
    "guess = int(input(\"Give in your guess between 1 & 10: \"))\n",
    "while guess!=number:\n",
    "    if guess>number:\n",
    "        print(\"Too high, try again.\")\n",
    "        guess = int(input(\"Give in your guess between 1 & 10: \"))\n",
    "    elif guess<number:\n",
    "        print(\"Too low, try again.\")\n",
    "        guess = int(input(\"Give in your guess between 1 & 10: \"))\n",
    "print(\"Congratulations, you guessed the number!\")"
   ]
  },
  {
   "cell_type": "code",
   "execution_count": 10,
   "metadata": {},
   "outputs": [
    {
     "name": "stdout",
     "output_type": "stream",
     "text": [
      "The sum of the numbers is: 6\n"
     ]
    }
   ],
   "source": [
    "# Write a program that ask the user for a number as input. \n",
    "# When the user types \"x\", the program stops and prints out the sum of all numbers\n",
    "# Example: 5 + 4 + 2 = 11\n",
    "number = int(input(\"Give in your number: \"))\n",
    "sum = 0\n",
    "while number!=\"x\":\n",
    "    sum+=int(number)\n",
    "    number = input(\"Give in your number: \")\n",
    "print(\"The sum of the numbers is:\",sum)\n"
   ]
  },
  {
   "attachments": {},
   "cell_type": "markdown",
   "metadata": {},
   "source": [
    " ## Combine conditions"
   ]
  },
  {
   "cell_type": "code",
   "execution_count": 12,
   "metadata": {},
   "outputs": [
    {
     "name": "stdout",
     "output_type": "stream",
     "text": [
      "Not a alliteration\n"
     ]
    }
   ],
   "source": [
    "# Ask the user for their first & lastname.\n",
    "# Check whether the name is a alliteration\n",
    "# Ex. Patrick Peete -> alliteration!\n",
    "# Ex. Marie Mcgonnal -> alliteration!\n",
    "# Ex. Steve Potter -> not  a alliteration!\n",
    "firstname = input(\"Give in your first name: \")\n",
    "lastname = input(\"Give in your last name: \")\n",
    "if firstname[0]==lastname[0]:\n",
    "    print(\"Alliteration\")\n",
    "else:\n",
    "    print(\"Not a alliteration\")"
   ]
  },
  {
   "cell_type": "code",
   "execution_count": 13,
   "metadata": {},
   "outputs": [
    {
     "name": "stdout",
     "output_type": "stream",
     "text": [
      "True\n",
      "True\n",
      "True\n",
      "False\n",
      "False\n"
     ]
    }
   ],
   "source": [
    "# What will the following statements print?\n",
    "x=5\n",
    "y=3\n",
    "print(not(x==y)) # True\n",
    "print(x<y or x<10) # True\n",
    "y+=2\n",
    "print(x==y) # True\n",
    "print(x+y<10) # False\n",
    "x+=y\n",
    "print(x-y==7) # False"
   ]
  }
 ],
 "metadata": {
  "kernelspec": {
   "display_name": "Python 3",
   "language": "python",
   "name": "python3"
  },
  "language_info": {
   "codemirror_mode": {
    "name": "ipython",
    "version": 3
   },
   "file_extension": ".py",
   "mimetype": "text/x-python",
   "name": "python",
   "nbconvert_exporter": "python",
   "pygments_lexer": "ipython3",
   "version": "3.9.5"
  },
  "orig_nbformat": 4,
  "vscode": {
   "interpreter": {
    "hash": "3377c1869ce9b875128992c4d4a0c4e1142ebfb59cc5d70d4b3cca9aeabfaa09"
   }
  }
 },
 "nbformat": 4,
 "nbformat_minor": 2
}
