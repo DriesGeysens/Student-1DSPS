{
 "cells": [
  {
   "attachments": {},
   "cell_type": "markdown",
   "metadata": {},
   "source": [
    "# Lesson 2"
   ]
  },
  {
   "attachments": {},
   "cell_type": "markdown",
   "metadata": {},
   "source": [
    "## Functions"
   ]
  },
  {
   "cell_type": "code",
   "execution_count": 3,
   "metadata": {},
   "outputs": [
    {
     "name": "stdout",
     "output_type": "stream",
     "text": [
      "inputfunctions\n"
     ]
    }
   ],
   "source": [
    "# write a function that takes in a string argument and returns the string.\n",
    "def newfuctions(text):\n",
    "    return text+\"functions\"\n",
    "    print(\"Hello World\")\n",
    "print(newfuctions(\"input\"))"
   ]
  },
  {
   "cell_type": "code",
   "execution_count": 6,
   "metadata": {},
   "outputs": [
    {
     "name": "stdout",
     "output_type": "stream",
     "text": [
      "1\n",
      "4\n",
      "9\n",
      "16\n",
      "25\n",
      "36\n",
      "49\n",
      "64\n",
      "81\n",
      "100\n"
     ]
    }
   ],
   "source": [
    "# write a function that returns the square of the input number. \n",
    "# Use this function in a loop from 1 until 10\n",
    "def square(inputnumber):\n",
    "    return inputnumber*inputnumber\n",
    "for i in range(1,11):\n",
    "    print(square(i))\n"
   ]
  },
  {
   "attachments": {},
   "cell_type": "markdown",
   "metadata": {},
   "source": [
    "## Collections"
   ]
  },
  {
   "attachments": {},
   "cell_type": "markdown",
   "metadata": {},
   "source": [
    "### Lists"
   ]
  },
  {
   "cell_type": "code",
   "execution_count": 17,
   "metadata": {},
   "outputs": [
    {
     "name": "stdout",
     "output_type": "stream",
     "text": [
      "['chips', 'pizza', 15]\n",
      "['chips', 'pizza']\n",
      "sadness\n"
     ]
    }
   ],
   "source": [
    "groceryitems = []\n",
    "groceryitems.append(\"chips\")\n",
    "groceryitems.append(\"pizza\")\n",
    "groceryitems.append(15)\n",
    "#print(groceryitems)\n",
    "print(groceryitems)\n",
    "groceryitems.pop(-1)\n",
    "print(groceryitems)\n",
    "if \"vegetables\" in groceryitems:\n",
    "    print(\"Yummy\")\n",
    "else:\n",
    "    print(\"sadness\")\n"
   ]
  },
  {
   "cell_type": "code",
   "execution_count": 19,
   "metadata": {},
   "outputs": [
    {
     "name": "stdout",
     "output_type": "stream",
     "text": [
      "[0, 1, 4, 9, 16]\n"
     ]
    }
   ],
   "source": [
    "nrs = range(0,5)\n",
    "squares = [x ** 2 for x in nrs]\n",
    "print(squares)"
   ]
  },
  {
   "cell_type": "code",
   "execution_count": null,
   "metadata": {},
   "outputs": [],
   "source": [
    "fruits = [\"pineapple\",\"apple\"]\n"
   ]
  },
  {
   "cell_type": "code",
   "execution_count": 22,
   "metadata": {},
   "outputs": [
    {
     "name": "stdout",
     "output_type": "stream",
     "text": [
      "You have a terrible taste\n"
     ]
    }
   ],
   "source": [
    "# Ask the user for their favorite fruit. If it is in the following list (apple, pear, pineapple)\n",
    "# print \"you have good taste!\", otherwise print \"you have a terrible taste!\"\n",
    "fruits = [\"apple\",\"pear\",\"pineapple\"]\n",
    "favoritefruit = input(\"Give in your favorite food: \")\n",
    "if favoritefruit in fruits:\n",
    "    print(\"You have a greate taste\")\n",
    "else:\n",
    "    print(\"You have a terrible taste\")\n"
   ]
  },
  {
   "cell_type": "code",
   "execution_count": 24,
   "metadata": {},
   "outputs": [
    {
     "name": "stdout",
     "output_type": "stream",
     "text": [
      "d\n"
     ]
    }
   ],
   "source": [
    "x = \"Hello world\"\n",
    "print(x[-1])"
   ]
  },
  {
   "cell_type": "code",
   "execution_count": null,
   "metadata": {},
   "outputs": [],
   "source": [
    "# ask the user for grocery items as input, when the user types \"x\", the program quits\n",
    "# and displays all the items\n"
   ]
  },
  {
   "cell_type": "code",
   "execution_count": 25,
   "metadata": {},
   "outputs": [
    {
     "name": "stdout",
     "output_type": "stream",
     "text": [
      "5\n"
     ]
    }
   ],
   "source": [
    "# Ask the user for a string, print how long the string is.\n",
    "words = input(\"Give me an input: \")\n",
    "print(len(words))"
   ]
  },
  {
   "cell_type": "code",
   "execution_count": null,
   "metadata": {},
   "outputs": [],
   "source": [
    "# Ask the user for a sentence, ask it then for a word.\n",
    "# print \"the word is in the sentence\" if the word was in the sentence"
   ]
  },
  {
   "cell_type": "code",
   "execution_count": null,
   "metadata": {},
   "outputs": [],
   "source": [
    "# Ask the user for an input, print the reverse of that."
   ]
  },
  {
   "cell_type": "code",
   "execution_count": null,
   "metadata": {},
   "outputs": [],
   "source": [
    "# make a list of numbers and square them\n"
   ]
  },
  {
   "cell_type": "code",
   "execution_count": null,
   "metadata": {},
   "outputs": [],
   "source": []
  },
  {
   "attachments": {},
   "cell_type": "markdown",
   "metadata": {},
   "source": [
    "## 2D List"
   ]
  },
  {
   "cell_type": "code",
   "execution_count": 31,
   "metadata": {},
   "outputs": [
    {
     "name": "stdout",
     "output_type": "stream",
     "text": [
      "1\n",
      "2\n",
      "3\n",
      "4\n",
      "5\n",
      "6\n",
      "7\n",
      "8\n",
      "9\n"
     ]
    }
   ],
   "source": [
    "list_of_lists = [ [1,2,3], [4,5,6], [7,8,9]]\n",
    "for list in list_of_lists:\n",
    "    for element in list:\n",
    "        print(element)\n"
   ]
  },
  {
   "attachments": {},
   "cell_type": "markdown",
   "metadata": {},
   "source": [
    "## Tuple"
   ]
  },
  {
   "cell_type": "code",
   "execution_count": 35,
   "metadata": {},
   "outputs": [
    {
     "name": "stdout",
     "output_type": "stream",
     "text": [
      "monday\n"
     ]
    },
    {
     "ename": "TypeError",
     "evalue": "'tuple' object does not support item assignment",
     "output_type": "error",
     "traceback": [
      "\u001b[1;31m---------------------------------------------------------------------------\u001b[0m",
      "\u001b[1;31mTypeError\u001b[0m                                 Traceback (most recent call last)",
      "Cell \u001b[1;32mIn[35], line 6\u001b[0m\n\u001b[0;32m      4\u001b[0m weekdays \u001b[39m=\u001b[39m (\u001b[39m\"\u001b[39m\u001b[39mmonday\u001b[39m\u001b[39m\"\u001b[39m,\u001b[39m\"\u001b[39m\u001b[39mtuesday\u001b[39m\u001b[39m\"\u001b[39m,\u001b[39m\"\u001b[39m\u001b[39mwednesday\u001b[39m\u001b[39m\"\u001b[39m,\u001b[39m\"\u001b[39m\u001b[39mthursday\u001b[39m\u001b[39m\"\u001b[39m,\u001b[39m\"\u001b[39m\u001b[39mfriday\u001b[39m\u001b[39m\"\u001b[39m)\n\u001b[0;32m      5\u001b[0m \u001b[39mprint\u001b[39m(weekdays[\u001b[39m0\u001b[39m])\n\u001b[1;32m----> 6\u001b[0m weekdays[\u001b[39m1\u001b[39;49m]\u001b[39m=\u001b[39m\u001b[39m\"\u001b[39m\u001b[39mfree holiday\u001b[39m\u001b[39m\"\u001b[39m\n\u001b[0;32m      7\u001b[0m \u001b[39mprint\u001b[39m(weekdays)\n",
      "\u001b[1;31mTypeError\u001b[0m: 'tuple' object does not support item assignment"
     ]
    }
   ],
   "source": [
    "# Create a tuple of all the days in the week\n",
    "# print out the last day of the week\n",
    "# print out the second day of the week\n",
    "weekdays = (\"monday\",\"tuesday\",\"wednesday\",\"thursday\",\"friday\")\n",
    "print(weekdays[0])\n",
    "weekdays[1]=\"free holiday\"\n",
    "print(weekdays)"
   ]
  },
  {
   "attachments": {},
   "cell_type": "markdown",
   "metadata": {},
   "source": [
    "## Set"
   ]
  },
  {
   "cell_type": "code",
   "execution_count": 38,
   "metadata": {},
   "outputs": [
    {
     "name": "stdout",
     "output_type": "stream",
     "text": [
      "{'tuesday', 'monday'}\n"
     ]
    }
   ],
   "source": [
    "set = {\"monday\"}\n",
    "set.add(\"tuesday\")\n",
    "set.add(\"monday\")\n",
    "print(set)"
   ]
  },
  {
   "cell_type": "code",
   "execution_count": 39,
   "metadata": {},
   "outputs": [
    {
     "name": "stdout",
     "output_type": "stream",
     "text": [
      "{'cheese', 'ice cream', 'fries'}\n"
     ]
    }
   ],
   "source": [
    "# ask the user for grocery items as input, when the user types \"x\", the program quits\n",
    "# and displays all the UNIQUE items\n",
    "groceryitems = {\"cheese\"}\n",
    "item = input(\"Give in a grocery item: \")\n",
    "while item!=\"x\":\n",
    "    groceryitems.add(item)\n",
    "    item = input(\"Give in another item: \")\n",
    "print(groceryitems)\n",
    "\n",
    "\n"
   ]
  },
  {
   "cell_type": "code",
   "execution_count": null,
   "metadata": {},
   "outputs": [],
   "source": [
    "# create a list of numbers and print out the unique ones"
   ]
  },
  {
   "attachments": {},
   "cell_type": "markdown",
   "metadata": {},
   "source": [
    "## Dictionary"
   ]
  },
  {
   "cell_type": "code",
   "execution_count": 43,
   "metadata": {},
   "outputs": [
    {
     "name": "stdout",
     "output_type": "stream",
     "text": [
      "Jeff\n"
     ]
    }
   ],
   "source": [
    "studentdict = {}\n",
    "studentdict[\"r073351\"]=\"Dries\"\n",
    "studentdict[\"r015222\"]=\"Steve\"\n",
    "studentdict[\"r073351\"]=\"Jeff\"\n",
    "print(studentdict[\"r073351\"])"
   ]
  },
  {
   "cell_type": "code",
   "execution_count": null,
   "metadata": {},
   "outputs": [],
   "source": []
  },
  {
   "cell_type": "code",
   "execution_count": 44,
   "metadata": {},
   "outputs": [
    {
     "name": "stdout",
     "output_type": "stream",
     "text": [
      "Your name is: Dries , your age is 24\n"
     ]
    }
   ],
   "source": [
    "# Create a dictionary that maps names to ages. Ask for the user name and if the user is present in \n",
    "# the dictionary return their age\n",
    "name = input(\"Give in your name: \")\n",
    "age = int(input(\"Give in your age: \"))\n",
    "personaldetails = {}\n",
    "personaldetails[name]=age \n",
    "print(\"Your name is:\",name,\", your age is\",\n",
    "      personaldetails[name])\n",
    "\n",
    "\n"
   ]
  },
  {
   "cell_type": "code",
   "execution_count": null,
   "metadata": {},
   "outputs": [],
   "source": [
    "# Remove colors from a dictionary based on fruit"
   ]
  },
  {
   "cell_type": "code",
   "execution_count": null,
   "metadata": {},
   "outputs": [],
   "source": [
    "# Ask the user to give in a student number and a student until the user types \"x\" for a student number\n",
    "# Then print out all of the student & student numbers."
   ]
  }
 ],
 "metadata": {
  "kernelspec": {
   "display_name": "Python 3",
   "language": "python",
   "name": "python3"
  },
  "language_info": {
   "codemirror_mode": {
    "name": "ipython",
    "version": 3
   },
   "file_extension": ".py",
   "mimetype": "text/x-python",
   "name": "python",
   "nbconvert_exporter": "python",
   "pygments_lexer": "ipython3",
   "version": "3.9.5"
  },
  "orig_nbformat": 4,
  "vscode": {
   "interpreter": {
    "hash": "3377c1869ce9b875128992c4d4a0c4e1142ebfb59cc5d70d4b3cca9aeabfaa09"
   }
  }
 },
 "nbformat": 4,
 "nbformat_minor": 2
}
