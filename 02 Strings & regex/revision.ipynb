{
 "cells": [
  {
   "cell_type": "markdown",
   "metadata": {},
   "source": [
    "# Revision"
   ]
  },
  {
   "attachments": {},
   "cell_type": "markdown",
   "metadata": {},
   "source": [
    "Write a Python function called validate_email that takes an email address as input and returns a boolean indicating whether or not the email is valid. The function should use string functions and regular expressions to perform the validation. The email is considered valid if it meets the following criteria:\n",
    "- The email address must contain an \"@\" symbol.\n",
    "- The part before the \"@\" symbol must be at least one character long and can only contain:\n",
    "    - letters\n",
    "    - numbers\n",
    "    - dots\n",
    "    - hyphens\n",
    "    - underscores.\n",
    "- The part after the \"@\" symbol must be at least two characters long and can only contain:\n",
    "    - letters\n",
    "    - dots\n",
    "    - hyphens.\n",
    "- The email address must not end with a dot.\n"
   ]
  },
  {
   "cell_type": "code",
   "execution_count": 1,
   "metadata": {},
   "outputs": [
    {
     "name": "stdout",
     "output_type": "stream",
     "text": [
      "True\n",
      "False\n",
      "False\n",
      "False\n"
     ]
    }
   ],
   "source": [
    "import re\n",
    "\n",
    "def validate_email(email):\n",
    "    # If the @ is not in the email, it is not valid, so return false\n",
    "    if not(\"@\" in email):\n",
    "        return False\n",
    "    # If the length of the string before the @ is 0, return False\n",
    "    elif len(email.split(\"@\")[0]) == 0:\n",
    "        return False\n",
    "    # If there is no match for the following regex return False\n",
    "    elif re.search(r\"^[\\.\\w\\-]+$\",email.split(\"@\")[0]) is None:\n",
    "        return False\n",
    "    # If there is no match for the following regex return False\n",
    "    elif re.search(r\"^[\\.a-zA-Z\\-]{2,}$\",email.split(\"@\")[1]) is None:\n",
    "        return False\n",
    "    # If the email ends with a dot return False\n",
    "    elif email.endswith(\".\"):\n",
    "        return False\n",
    "    # If all of this\n",
    "    else:\n",
    "        return True\n",
    "        \n",
    "print(validate_email(\"test@hotmail.com\")) # return True\n",
    "print(validate_email(\"test@hotma1l.com\")) # return False, no numbers are allowed in the second part of the email (after the @)\n",
    "print(validate_email(\"@hotma1l.com\")) # return False, there is no string before the @ symbol\n",
    "print(validate_email(\"a@s\")) # return False, the minimum length of the sceond part of the email (after the @) is two\n",
    "\n"
   ]
  }
 ],
 "metadata": {
  "kernelspec": {
   "display_name": "Python 3",
   "language": "python",
   "name": "python3"
  },
  "language_info": {
   "codemirror_mode": {
    "name": "ipython",
    "version": 3
   },
   "file_extension": ".py",
   "mimetype": "text/x-python",
   "name": "python",
   "nbconvert_exporter": "python",
   "pygments_lexer": "ipython3",
   "version": "3.9.5"
  },
  "orig_nbformat": 4
 },
 "nbformat": 4,
 "nbformat_minor": 2
}
