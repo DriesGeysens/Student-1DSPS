{
 "cells": [
  {
   "attachments": {},
   "cell_type": "markdown",
   "metadata": {},
   "source": [
    "# Lesson 4"
   ]
  },
  {
   "attachments": {},
   "cell_type": "markdown",
   "metadata": {},
   "source": [
    "## Strings"
   ]
  },
  {
   "attachments": {},
   "cell_type": "markdown",
   "metadata": {},
   "source": [
    "### Escape"
   ]
  },
  {
   "cell_type": "code",
   "execution_count": 18,
   "metadata": {},
   "outputs": [
    {
     "name": "stdout",
     "output_type": "stream",
     "text": [
      "This is a \ttab\n"
     ]
    }
   ],
   "source": [
    "#print(\"\"This is Alice's cat\", said Marie.\") -> will result in an error\n",
    "print(\"\\\"This is Alice\\'s cat\\\", said Marie.\")"
   ]
  },
  {
   "cell_type": "code",
   "execution_count": 1,
   "metadata": {},
   "outputs": [
    {
     "name": "stdout",
     "output_type": "stream",
     "text": [
      "This is Alice's cat.\n"
     ]
    }
   ],
   "source": [
    "print(\"This is Alice's cat.\")\n",
    "print(\"This is a tab: \\t\")\n",
    "print(\"This is a newline\\n Super cool\")"
   ]
  },
  {
   "attachments": {},
   "cell_type": "markdown",
   "metadata": {},
   "source": [
    "### Raw strings"
   ]
  },
  {
   "cell_type": "code",
   "execution_count": 13,
   "metadata": {},
   "outputs": [
    {
     "name": "stdout",
     "output_type": "stream",
     "text": [
      "This is a newline \\n\n"
     ]
    }
   ],
   "source": [
    "raw_string = r\"This is a newline \\n\"\n",
    "print(raw_string)\n"
   ]
  },
  {
   "attachments": {},
   "cell_type": "markdown",
   "metadata": {},
   "source": [
    "### Slicing"
   ]
  },
  {
   "cell_type": "code",
   "execution_count": 3,
   "metadata": {},
   "outputs": [
    {
     "name": "stdout",
     "output_type": "stream",
     "text": [
      "are\n"
     ]
    }
   ],
   "source": [
    "string = 'This is a nice walk'\n",
    "print(string[4:7])\n",
    "print(string[::2])"
   ]
  },
  {
   "attachments": {},
   "cell_type": "markdown",
   "metadata": {},
   "source": [
    "### Split and join"
   ]
  },
  {
   "cell_type": "code",
   "execution_count": 3,
   "metadata": {},
   "outputs": [
    {
     "name": "stdout",
     "output_type": "stream",
     "text": [
      "['This', 'is', 'a', 'sentence.']\n",
      "This-is-a-sentence.\n"
     ]
    }
   ],
   "source": [
    "string = \"This is a sentence.\"\n",
    "splitted_string = string.split()\n",
    "print(splitted_string)\n",
    "joined_string = \"-\".join(splitted_string)\n",
    "print(joined_string)"
   ]
  },
  {
   "attachments": {},
   "cell_type": "markdown",
   "metadata": {},
   "source": [
    "### IsX() methods"
   ]
  },
  {
   "attachments": {},
   "cell_type": "markdown",
   "metadata": {},
   "source": [
    "Returns a boolean: either a string has a property or not.\n",
    "Examples:\n",
    "- A string can start with a certain word (or not)\n",
    "- A string is written in full uppercase (or not)"
   ]
  },
  {
   "cell_type": "code",
   "execution_count": null,
   "metadata": {},
   "outputs": [],
   "source": [
    "string = \"This is a 1 sentence.\"\n",
    "print(string.isupper())\n",
    "print(string.islower())\n",
    "print(string.startswith(\"This\"))\n",
    "print(string.endswith(\"This\"))\n",
    "for character in string:\n",
    "    if character.isdigit():\n",
    "        print(\"We found a digit\")\n",
    "    else:\n",
    "        print(\"No luck\")\n"
   ]
  },
  {
   "attachments": {},
   "cell_type": "markdown",
   "metadata": {},
   "source": [
    "### ASCII"
   ]
  },
  {
   "cell_type": "code",
   "execution_count": 14,
   "metadata": {},
   "outputs": [
    {
     "name": "stdout",
     "output_type": "stream",
     "text": [
      "The ASCII value of A is 65\n",
      "@ comes before A in the ASCII table\n"
     ]
    }
   ],
   "source": [
    "print(\"The ASCII value of A is\", ord(\"A\"))\n",
    "print(chr(ord(\"A\")-1),\"comes before A in the ASCII table\")"
   ]
  },
  {
   "attachments": {},
   "cell_type": "markdown",
   "metadata": {},
   "source": [
    "### Strip"
   ]
  },
  {
   "cell_type": "code",
   "execution_count": 20,
   "metadata": {},
   "outputs": [
    {
     "name": "stdout",
     "output_type": "stream",
     "text": [
      "Let's strip  this string             \n",
      "   Let's strip  this string\n",
      "Let's strip  this string\n"
     ]
    }
   ],
   "source": [
    "string =\"   Let's strip  this string             \";\n",
    "print(string.lstrip())\n",
    "print(string.rstrip())\n",
    "print(string.strip())"
   ]
  },
  {
   "attachments": {},
   "cell_type": "markdown",
   "metadata": {},
   "source": [
    "## Regex"
   ]
  },
  {
   "attachments": {},
   "cell_type": "markdown",
   "metadata": {},
   "source": [
    "### Basic Functions"
   ]
  },
  {
   "cell_type": "code",
   "execution_count": 16,
   "metadata": {},
   "outputs": [
    {
     "name": "stdout",
     "output_type": "stream",
     "text": [
      "(1, 5)\n",
      "ello\n",
      "3\n"
     ]
    }
   ],
   "source": [
    "import re\n",
    "string = \"Hello world\"\n",
    "result = re.search(r\"[a-z]+\",string)\n",
    "print(result.span())\n",
    "print(result.group())\n",
    "result = re.findall(r\"l\",string)\n",
    "print(len(result))"
   ]
  },
  {
   "cell_type": "code",
   "execution_count": 17,
   "metadata": {},
   "outputs": [
    {
     "name": "stdout",
     "output_type": "stream",
     "text": [
      "very nice\n"
     ]
    }
   ],
   "source": [
    "string = \"very nice, very epic\"\n",
    "result = re.search(r\"[^,]+\",string)\n",
    "print(result.group())"
   ]
  },
  {
   "cell_type": "code",
   "execution_count": 9,
   "metadata": {},
   "outputs": [
    {
     "name": "stdout",
     "output_type": "stream",
     "text": [
      "\t\n",
      "\\t\n"
     ]
    }
   ],
   "source": [
    "string = '\\t'\n",
    "print(string)\n",
    "\n",
    "raw_string = r'\\t'\n",
    "print(raw_string)"
   ]
  },
  {
   "attachments": {},
   "cell_type": "markdown",
   "metadata": {},
   "source": [
    "### Compile"
   ]
  },
  {
   "cell_type": "code",
   "execution_count": 23,
   "metadata": {},
   "outputs": [
    {
     "name": "stdout",
     "output_type": "stream",
     "text": [
      "First occurence = 1\n",
      "['1', '0', '1', '1']\n",
      "['0', '4', '5', '6', '1', '2', '4', '5', '7', '8']\n"
     ]
    }
   ],
   "source": [
    "string = \"\"\"There are 10 kinds of people,\n",
    "those who understand binary and those \n",
    "who don't! Are you 1 of the 1st group?\"\"\"\n",
    "\n",
    "#finding all digits\n",
    "regex_object = re.compile(r'\\d')\n",
    "result = regex_object.search(string)\n",
    "print(\"First occurence = \" + result.group())\n",
    "result = regex_object.findall(string)\n",
    "print(result)\n",
    "\n",
    "result = regex_object.findall(\"My number is 0456 12 45 78\")\n",
    "print(result)"
   ]
  },
  {
   "attachments": {},
   "cell_type": "markdown",
   "metadata": {},
   "source": [
    "### Match"
   ]
  },
  {
   "cell_type": "code",
   "execution_count": 25,
   "metadata": {},
   "outputs": [
    {
     "name": "stdout",
     "output_type": "stream",
     "text": [
      "None\n",
      "<re.Match object; span=(10, 11), match='1'>\n"
     ]
    }
   ],
   "source": [
    "string = \"There are 10 kinds of people,those who understand binary and those who don't! Are you 1 of the 1st group?\"\n",
    "\n",
    "regex_object = re.compile(r'\\d')\n",
    "print(regex_object.match(string))\n",
    "regex_object = re.compile(r'\\d')\n",
    "print(regex_object.search(string))"
   ]
  },
  {
   "cell_type": "code",
   "execution_count": 26,
   "metadata": {},
   "outputs": [
    {
     "name": "stdout",
     "output_type": "stream",
     "text": [
      "['There are ', '', \" kinds of people,\\nthose who understand binary and those \\t\\nwho don't! Are you \", ' of the ', 'st group?']\n"
     ]
    }
   ],
   "source": [
    "\t\n",
    "string = \"\"\"There are 10 kinds of people,\n",
    "those who understand binary and those \t\n",
    "who don't! Are you 1 of the 1st group?\"\"\"\n",
    "\t \n",
    "#finding all digits\t\n",
    "regex_object = re.compile(r'\\d')\n",
    "result = regex_object.split(string)\n",
    "print(result)"
   ]
  },
  {
   "attachments": {},
   "cell_type": "markdown",
   "metadata": {},
   "source": [
    "### Replace"
   ]
  },
  {
   "cell_type": "code",
   "execution_count": 27,
   "metadata": {},
   "outputs": [
    {
     "name": "stdout",
     "output_type": "stream",
     "text": [
      "There are DIGITDIGIT kinds of people,\t\n",
      "those who understand binary and those \n",
      "who don't! Are you DIGIT of the DIGITst group?\n"
     ]
    }
   ],
   "source": [
    "string = \"\"\"There are 10 kinds of people,\t\n",
    "those who understand binary and those \n",
    "who don't! Are you 1 of the 1st group?\"\"\"\n",
    "\n",
    "#finding all digits\t\n",
    "regex_object = re.compile(r'\\d')\n",
    "result = regex_object.sub(\"DIGIT\", string)\n",
    "print(result)"
   ]
  },
  {
   "attachments": {},
   "cell_type": "markdown",
   "metadata": {},
   "source": [
    "## Extra exercises"
   ]
  },
  {
   "attachments": {},
   "cell_type": "markdown",
   "metadata": {},
   "source": [
    "- Go to  https://regexone.com/ or http://play.inginf.units.it/ "
   ]
  },
  {
   "attachments": {},
   "cell_type": "markdown",
   "metadata": {},
   "source": [
    "## Regex pattern not working?"
   ]
  },
  {
   "attachments": {},
   "cell_type": "markdown",
   "metadata": {},
   "source": [
    "- Go to https://regex101.com/ and type in your pattern\n",
    "- Then type in your text you would like to match and see if it does! If not, adjust the regex until it does\n",
    "- Regex 101 has handy debugging tools to make life easier"
   ]
  }
 ],
 "metadata": {
  "kernelspec": {
   "display_name": "Python 3",
   "language": "python",
   "name": "python3"
  },
  "language_info": {
   "codemirror_mode": {
    "name": "ipython",
    "version": 3
   },
   "file_extension": ".py",
   "mimetype": "text/x-python",
   "name": "python",
   "nbconvert_exporter": "python",
   "pygments_lexer": "ipython3",
   "version": "3.9.5"
  },
  "orig_nbformat": 4,
  "vscode": {
   "interpreter": {
    "hash": "3377c1869ce9b875128992c4d4a0c4e1142ebfb59cc5d70d4b3cca9aeabfaa09"
   }
  }
 },
 "nbformat": 4,
 "nbformat_minor": 2
}
