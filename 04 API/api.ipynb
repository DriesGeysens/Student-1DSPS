{
 "cells": [
  {
   "cell_type": "markdown",
   "metadata": {},
   "source": [
    "# API\n",
    "Application Programming Interface: interface that allows you to build on the data and functionality of another application. All webservices are API's but now all API's are websercies!\n",
    "\n",
    "## Reading JSON\n",
    "### Read a simple string"
   ]
  },
  {
   "cell_type": "code",
   "execution_count": 22,
   "metadata": {},
   "outputs": [
    {
     "name": "stdout",
     "output_type": "stream",
     "text": [
      "{'name': 'Dwayne Johnson', 'age': 50, 'city': 'California'}\n"
     ]
    }
   ],
   "source": [
    "import json\n",
    "\n",
    "#string JSON example\n",
    "json_data =  '[{ \"name\":\"Jason Statham\",  \"age\":54, \"city\":\"Chesterfield\"},{\"name\":\"Dwayne Johnson\", \"age\":50, \"city\":\"California\"}]'\n",
    "y = json.loads(json_data)\n",
    "print(y[1]) # result is dictionary!\n"
   ]
  },
  {
   "cell_type": "code",
   "execution_count": 25,
   "metadata": {},
   "outputs": [
    {
     "name": "stdout",
     "output_type": "stream",
     "text": [
      "Jason Momoa\n",
      "Jason Momoa\n"
     ]
    }
   ],
   "source": [
    "f= open(\"jason.json\")\n",
    "result = json.load(f)\n",
    "print(result[\"people\"][1][\"name\"])\n",
    "\n",
    "f= open(\"jason.json\")\n",
    "result = json.loads(f.read())\n",
    "print(result[\"people\"][1][\"name\"])\n",
    "\n",
    "\n"
   ]
  },
  {
   "cell_type": "markdown",
   "metadata": {},
   "source": [
    "### Use a file-object (load!)"
   ]
  },
  {
   "cell_type": "code",
   "execution_count": 26,
   "metadata": {},
   "outputs": [
    {
     "name": "stdout",
     "output_type": "stream",
     "text": [
      "Eloquent JavaScript, Second Edition\n",
      "{'books': [{'isbn': '9781593275846', 'title': 'Eloquent JavaScript, Second Edition', 'subtitle': 'A Modern Introduction to Programming', 'author': 'Marijn Haverbeke', 'published': '2014-12-14T00:00:00.000Z', 'publisher': 'No Starch Press', 'pages': 472, 'description': 'JavaScript lies at the heart of almost every modern web application, from social apps to the newest browser-based games. Though simple for beginners to pick up and play with, JavaScript is a flexible, complex language that you can use to build full-scale applications.', 'website': 'http://eloquentjavascript.net/'}, {'isbn': '9781449331818', 'title': 'Learning JavaScript Design Patterns', 'subtitle': \"A JavaScript and jQuery Developer's Guide\", 'author': 'Addy Osmani', 'published': '2012-07-01T00:00:00.000Z', 'publisher': \"O'Reilly Media\", 'pages': 254, 'description': \"With Learning JavaScript Design Patterns, you'll learn how to write beautiful, structured, and maintainable JavaScript by applying classical and modern design patterns to the language. If you want to keep your code efficient, more manageable, and up-to-date with the latest best practices, this book is for you.\", 'website': 'http://www.addyosmani.com/resources/essentialjsdesignpatterns/book/'}, {'isbn': '9781449365035', 'title': 'Speaking JavaScript', 'subtitle': 'An In-Depth Guide for Programmers', 'author': 'Axel Rauschmayer', 'published': '2014-02-01T00:00:00.000Z', 'publisher': \"O'Reilly Media\", 'pages': 460, 'description': 'Like it or not, JavaScript is everywhere these days-from browser to server to mobile-and now you, too, need to learn the language or dive deeper than you have. This concise book guides you into and through JavaScript, written by a veteran programmer who once found himself in the same position.', 'website': 'http://speakingjs.com/'}, {'isbn': '9781491950296', 'title': 'Programming JavaScript Applications', 'subtitle': 'Robust Web Architecture with Node, HTML5, and Modern JS Libraries', 'author': 'Eric Elliott', 'published': '2014-07-01T00:00:00.000Z', 'publisher': \"O'Reilly Media\", 'pages': 254, 'description': \"Take advantage of JavaScript's power to build robust web-scale or enterprise applications that are easy to extend and maintain. By applying the design patterns outlined in this practical book, experienced JavaScript developers will learn how to write flexible and resilient code that's easier-yes, easier-to work with as your code base grows.\", 'website': 'http://chimera.labs.oreilly.com/books/1234000000262/index.html'}, {'isbn': '9781593277574', 'title': 'Understanding ECMAScript 6', 'subtitle': 'The Definitive Guide for JavaScript Developers', 'author': 'Nicholas C. Zakas', 'published': '2016-09-03T00:00:00.000Z', 'publisher': 'No Starch Press', 'pages': 352, 'description': 'ECMAScript 6 represents the biggest update to the core of JavaScript in the history of the language. In Understanding ECMAScript 6, expert developer Nicholas C. Zakas provides a complete guide to the object types, syntax, and other exciting changes that ECMAScript 6 brings to JavaScript.', 'website': 'https://leanpub.com/understandinges6/read'}, {'isbn': '9781491904244', 'title': \"You Don't Know JS\", 'subtitle': 'ES6 & Beyond', 'author': 'Kyle Simpson', 'published': '2015-12-27T00:00:00.000Z', 'publisher': \"O'Reilly Media\", 'pages': 278, 'description': 'No matter how much experience you have with JavaScript, odds are you donâ€™t fully understand the language. As part of the \"You Donâ€™t Know JS\" series, this compact guide focuses on new features available in ECMAScript 6 (ES6), the latest version of the standard upon which JavaScript is built.', 'website': 'https://github.com/getify/You-Dont-Know-JS/tree/master/es6%20&%20beyond'}, {'isbn': '9781449325862', 'title': 'Git Pocket Guide', 'subtitle': 'A Working Introduction', 'author': 'Richard E. Silverman', 'published': '2013-08-02T00:00:00.000Z', 'publisher': \"O'Reilly Media\", 'pages': 234, 'description': 'This pocket guide is the perfect on-the-job companion to Git, the distributed version control system. It provides a compact, readable introduction to Git for new users, as well as a reference to common commands and procedures for those of you with Git experience.', 'website': 'http://chimera.labs.oreilly.com/books/1230000000561/index.html'}, {'isbn': '9781449337711', 'title': 'Designing Evolvable Web APIs with ASP.NET', 'subtitle': 'Harnessing the Power of the Web', 'author': 'Glenn Block, et al.', 'published': '2014-04-07T00:00:00.000Z', 'publisher': \"O'Reilly Media\", 'pages': 538, 'description': 'Design and build Web APIs for a broad range of clientsâ€”including browsers and mobile devicesâ€”that can adapt to change over time. This practical, hands-on guide takes you through the theory and tools you need to build evolvable HTTP services with Microsoftâ€™s ASP.NET Web API framework. In the process, youâ€™ll learn how design and implement a real-world Web API.', 'website': 'http://chimera.labs.oreilly.com/books/1234000001708/index.html'}]}\n"
     ]
    }
   ],
   "source": [
    "#read in file\n",
    "json_file = open(\"books.json\")\n",
    "#use load-method\n",
    "json_data = json.load(json_file)\n",
    "json_file.close()\n",
    "\n",
    "print(json_data[\"books\"][0][\"title\"])\n",
    "print(json_data)"
   ]
  },
  {
   "cell_type": "markdown",
   "metadata": {},
   "source": [
    "### Read in a file and pass a string (loads)"
   ]
  },
  {
   "cell_type": "code",
   "execution_count": null,
   "metadata": {},
   "outputs": [],
   "source": [
    "import json\n",
    "\n",
    "#read in file\n",
    "json_file = open(\"books.json\")\n",
    "#use loads-method\n",
    "json_data = json.loads(json_file.read())\n",
    "json_file.close()\n",
    "\n",
    "for book in json_data[\"books\"]:\n",
    "    print(book[\"title\"])"
   ]
  },
  {
   "cell_type": "markdown",
   "metadata": {},
   "source": [
    "## Writing JSON\n",
    "\n",
    "### A simple dictionary"
   ]
  },
  {
   "cell_type": "code",
   "execution_count": 31,
   "metadata": {},
   "outputs": [],
   "source": [
    "python_data = { \"name\":\"Jason Statham\", \"age\":54, \"city\":\"Chesterfield\"}\n",
    "\n",
    "json_data = json.dumps(python_data)\n",
    "f = open(\"actors.json\",\"w\")\n",
    "f.write(json_data)\n",
    "f.close()"
   ]
  },
  {
   "cell_type": "code",
   "execution_count": 37,
   "metadata": {},
   "outputs": [],
   "source": [
    "f = open(\"jason.json\")\n",
    "json_data = json.load(f)\n",
    "f.close()\n",
    "json_data[\"people\"].append(\n",
    "    {\"name\":\"Jason Derulo\",\n",
    "      \"age\":\"33\"})\n",
    "json_string = json.dumps(json_data)\n",
    "f = open(\"jason.json\",\"w\")\n",
    "f.write(json_string)\n",
    "f.close()\n",
    "\n"
   ]
  },
  {
   "cell_type": "code",
   "execution_count": 32,
   "metadata": {},
   "outputs": [],
   "source": [
    "import json\n",
    "\n",
    "f = open(\"jason.json\",\"r\")\n",
    "python_data = json.load(f)\n",
    "f.close()\n",
    "\n",
    "#creating a dictionary of a list of dictionaries\n",
    "python_data['people'].append({\n",
    "    'name': 'New Actor',\n",
    "    'age': 27\n",
    "})\n",
    "\n",
    "json_file = open('jason.json', 'w')\n",
    "json_data = json.dump(python_data, json_file)\n",
    "json_file.close()\n"
   ]
  },
  {
   "cell_type": "markdown",
   "metadata": {},
   "source": [
    "## Doing the fun stuff!\n",
    "Let's work with som fun API's!\n",
    "\n",
    "Before making requests, install additional package!\n",
    "pip install requests\n",
    "\n",
    "### Kanye.requests https://kanye.rest/"
   ]
  },
  {
   "cell_type": "code",
   "execution_count": 38,
   "metadata": {},
   "outputs": [
    {
     "name": "stdout",
     "output_type": "stream",
     "text": [
      "200\n",
      "{'Date': 'Mon, 27 Mar 2023 14:15:24 GMT', 'Content-Type': 'application/json', 'Transfer-Encoding': 'chunked', 'Connection': 'keep-alive', 'Access-Control-Allow-Origin': '*', 'Access-Control-Allow-Headers': 'Content-Type', 'Access-Control-Allow-Methods': 'GET', 'Report-To': '{\"endpoints\":[{\"url\":\"https:\\\\/\\\\/a.nel.cloudflare.com\\\\/report\\\\/v3?s=nqe6RFpOq5dpVxf2N1jcGgaudjFCX3Az01I4N6uTCMQQUYCyTb9PxzEFqHWMIojl5pBlHnNt4BlifAM%2BmJSsA%2BhFqLoL8w7oauW6MBnnavB%2BvH28akWxetCpxWalrA%2Fjdg%3D%3D\"}],\"group\":\"cf-nel\",\"max_age\":604800}', 'NEL': '{\"success_fraction\":0,\"report_to\":\"cf-nel\",\"max_age\":604800}', 'Vary': 'Accept-Encoding', 'Server': 'cloudflare', 'CF-RAY': '7ae83eca2ea92e1a-BRU', 'Content-Encoding': 'gzip', 'alt-svc': 'h3=\":443\"; ma=86400, h3-29=\":443\"; ma=86400'}\n",
      "{\"quote\":\"Shut the fuck up I will fucking laser you with alien fucking eyes and explode your fucking head\"}\n",
      "Shut the fuck up I will fucking laser you with alien fucking eyes and explode your fucking head\n"
     ]
    }
   ],
   "source": [
    "import requests\n",
    "import json\n",
    "\n",
    "response = requests.get(\"https://api.kanye.rest/\")\n",
    "print(response.status_code)\n",
    "print(response.headers)\n",
    "print(response.text)\n",
    "\n",
    "json_data = json.loads(response.text)\n",
    "print(json_data[\"quote\"])"
   ]
  },
  {
   "cell_type": "code",
   "execution_count": 47,
   "metadata": {},
   "outputs": [
    {
     "name": "stdout",
     "output_type": "stream",
     "text": [
      "Luke Skywalker\n"
     ]
    }
   ],
   "source": [
    "response = requests.get(\"https://swapi.dev/api/people/1\")\n",
    "json_data = json.loads(response.text)\n",
    "print(json_data[\"name\"])"
   ]
  },
  {
   "cell_type": "code",
   "execution_count": null,
   "metadata": {},
   "outputs": [],
   "source": [
    "import requests\n",
    "import json\n",
    "\n",
    "try:\n",
    "    r = requests.get(\"https://api.kanyee.rest/\")\n",
    "except Exception as e: \n",
    "    print(e)"
   ]
  },
  {
   "cell_type": "markdown",
   "metadata": {},
   "source": [
    "### Dr love https://rapidapi.com/ajith/api/love-calculator"
   ]
  },
  {
   "cell_type": "code",
   "execution_count": 50,
   "metadata": {},
   "outputs": [
    {
     "name": "stdout",
     "output_type": "stream",
     "text": [
      "https://love-calculator.p.rapidapi.com/getPercentage?fname=Elke+Boonen&sname=Dries+Geysens\n",
      "{\"fname\":\"Elke Boonen\",\"sname\":\"Dries Geysens\",\"percentage\":\"98\",\"result\":\"Congratulations! Good choice\"}\n",
      "Congratulations! Good choice\n"
     ]
    }
   ],
   "source": [
    "import requests\n",
    "import json\n",
    "\n",
    "api_url = \"https://love-calculator.p.rapidapi.com/getPercentage\"\n",
    "api_headers = {\n",
    "\t\"x-rapidapi-key\": \"< yourapi key here>\",\n",
    "\t\"x-rapidapi-host\": \"love-calculator.p.rapidapi.com\"}\n",
    "\n",
    "fname = input(\"Enter first name\")\n",
    "sname = input(\"Anter second name\")\n",
    "\n",
    "api_query = {\n",
    "\t\"fname\": fname,\n",
    "\t\"sname\": sname }\n",
    "\n",
    "response = requests.get(api_url, headers = api_headers, params=api_query)\n",
    "print(response.url)\n",
    "print(response.text)\n",
    "json_data = json.loads(response.text)\n",
    "print(json_data[\"result\"])\n",
    "\n",
    "\n"
   ]
  },
  {
   "cell_type": "code",
   "execution_count": null,
   "metadata": {},
   "outputs": [],
   "source": [
    "import requests\n",
    "import json\n",
    "\n",
    "api_url = \"https://love-calculator.p.rapidapi.com/getPercentage\"\n",
    "api_headers = {\n",
    "\t\"x-rapidapi-key\": \"<your key here>\",\n",
    "\t\"x-rapidapi-host\": \"love-calculator.p.rapidapi.com\"}\n",
    "\n",
    "fname = input(\"Enter first name\")\n",
    "sname = input(\"Anter second name\")\n",
    "\n",
    "api_query = {\n",
    "\t\"fname\": fname,\n",
    "\t\"sname\": sname }\n",
    "\n",
    "response = requests.get(api_url, headers = api_headers, params=api_query)\n",
    "json_data = json.loads(response.text)\n",
    "result = json_data[\"result\"]\n",
    "\n",
    "\n",
    "api_url = \"https://ajith-fancy-text-v1.p.rapidapi.com/text\"\n",
    "api_headers = {\n",
    "    \"x-rapidapi-key\": \"<your key here>\",\n",
    "\t\"x-rapidapi-host\": \"ajith-Fancy-text-v1.p.rapidapi.com\"\n",
    "}\n",
    "\n",
    "api_query = {\n",
    "\t\"text\": result}\n",
    "\n",
    "response = requests.get(api_url, headers = api_headers, params=api_query)\n",
    "json_data = json.loads(response.text)\n",
    "print(json_data[\"fancytext\"])\n"
   ]
  },
  {
   "cell_type": "markdown",
   "metadata": {},
   "source": [
    "# Practice makes perfect\n",
    "\n",
    "Do you remember the extra exercises from last week? Now see what you can do with this API: https://anapioficeandfire.com/ \n",
    "\n",
    "- Read in characters and find there different 'titles' like 'John Snow' is 'Kind of the Nord', 'Lord Snow' etc\n",
    "- Find which actor/actress plays a certain role, maybe you can add this information via IMDB?\n",
    "- Find info about all characters in a specific book\n",
    "- Find all info about a specific house, list all characters of that house \n",
    "\n",
    "Create memes https://rapidapi.com/collection/meme \n",
    "\n",
    "\n",
    "\n",
    "Just be creative!"
   ]
  }
 ],
 "metadata": {
  "kernelspec": {
   "display_name": "Python 3.9.2 64-bit",
   "metadata": {
    "interpreter": {
     "hash": "a7ff26f83e05060c3a7d34b0e500d2ccaab5c8f85efbdae62ef213692d698dc2"
    }
   },
   "name": "python3"
  },
  "language_info": {
   "codemirror_mode": {
    "name": "ipython",
    "version": 3
   },
   "file_extension": ".py",
   "mimetype": "text/x-python",
   "name": "python",
   "nbconvert_exporter": "python",
   "pygments_lexer": "ipython3",
   "version": "3.9.5"
  },
  "orig_nbformat": 2
 },
 "nbformat": 4,
 "nbformat_minor": 2
}
