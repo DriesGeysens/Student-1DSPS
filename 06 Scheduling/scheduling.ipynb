{
 "cells": [
  {
   "cell_type": "markdown",
   "metadata": {},
   "source": [
    "# Scheduling\n",
    "\n",
    "Running programs while sitting at your computer is ok, but it's very useful to let them run without supervision!\n",
    "- Schedule programs to run code at some specified time\n",
    "- Scrape website every hour...\n",
    "- Do a CPU-intensive task while you sleep\n",
    "- ...\n",
    "\n",
    "## The time Module\n",
    "https://www.epochconverter.com/\n"
   ]
  },
  {
   "cell_type": "code",
   "execution_count": 2,
   "metadata": {},
   "outputs": [
    {
     "name": "stdout",
     "output_type": "stream",
     "text": [
      "1682254766.1700256\n",
      "Sun Apr 23 14:59:26 2023\n",
      "Sun Apr 23 14:59:26 2023\n"
     ]
    }
   ],
   "source": [
    "import time\n",
    "print(time.time())\n",
    "print(time.ctime())\n",
    "print(time.ctime(time.time()))"
   ]
  },
  {
   "cell_type": "markdown",
   "metadata": {},
   "source": [
    "### Check execution time\n",
    "Seconds needed to check time with https://worldtimeapi.org "
   ]
  },
  {
   "cell_type": "code",
   "execution_count": 12,
   "metadata": {},
   "outputs": [
    {
     "name": "stdout",
     "output_type": "stream",
     "text": [
      "Tokyo time is 2021-04-11T23:22:42.382667+09:00\n",
      "Took 0.22145795822143555 seconds to get.\n"
     ]
    }
   ],
   "source": [
    "import requests\n",
    "import json\n",
    "import time\n",
    "\n",
    "# start time\n",
    "startTime = time.time()\n",
    "\n",
    "response = requests.get(\"https://worldtimeapi.org/api/timezone/Asia/Tokyo\")\n",
    "json_data = json.loads(response.text)\n",
    "\n",
    "#end time\n",
    "endTime = time.time()\n",
    "\n",
    "print('Tokyo time is',json_data[\"datetime\"])\n",
    "print('Took %s seconds to get.' % (endTime - startTime))"
   ]
  },
  {
   "cell_type": "markdown",
   "metadata": {},
   "source": [
    "### I need some sleep ;)"
   ]
  },
  {
   "cell_type": "code",
   "execution_count": 15,
   "metadata": {},
   "outputs": [
    {
     "name": "stdout",
     "output_type": "stream",
     "text": [
      "Tick\n",
      "Tock\n",
      "Tick\n",
      "Tock\n",
      "Tick\n",
      "Tock\n"
     ]
    }
   ],
   "source": [
    "import time\n",
    "for i in range(3):\n",
    "    print('Tick')\n",
    "    time.sleep(1)\n",
    "    print('Tock')\n",
    "    time.sleep(1)"
   ]
  },
  {
   "cell_type": "markdown",
   "metadata": {},
   "source": [
    "time.sleep() is super useful if you're doing a lot of api requests, but don't want to overload the api"
   ]
  },
  {
   "cell_type": "code",
   "execution_count": 32,
   "metadata": {},
   "outputs": [
    {
     "name": "stdout",
     "output_type": "stream",
     "text": [
      "Ma$e is one of my favorite rappers and I based a lot of my flows off of him\n",
      "We all self-conscious. I'm just the first to admit it.\n",
      "People tried to talk me out of running for President. Never let weak controlling people kill your spirit\n",
      "I think I do myself a disservice by comparing myself to Steve Jobs and Walt Disney and human beings that we've seen before. It should be more like Willy Wonka...and welcome to my chocolate factory.\n",
      "You basically can say anything to someone on an email or text as long as you put LOL at the end.\n"
     ]
    }
   ],
   "source": [
    "# make 5 api calls to kanye.rest, wait to call again for 2 seconds\n",
    "import requests\n",
    "import json\n",
    "import time\n",
    "for i in range(5):\n",
    "    response = requests.get(\"https://api.kanye.rest/?format=text\")\n",
    "    json_data = json.loads(response.text)\n",
    "    print(json_data['quote'])\n",
    "    time.sleep(2)\n"
   ]
  },
  {
   "cell_type": "markdown",
   "metadata": {},
   "source": [
    "## The DateTime Module"
   ]
  },
  {
   "cell_type": "code",
   "execution_count": 34,
   "metadata": {},
   "outputs": [
    {
     "name": "stdout",
     "output_type": "stream",
     "text": [
      "2021-04-11 17:04:13.587745\n",
      "2019 10 21 16 29 0\n",
      "1970-01-01 03:46:40\n",
      "2021-04-11 17:04:13.589720\n",
      "2021-04-11 17:04:14\n"
     ]
    }
   ],
   "source": [
    "import datetime\n",
    "print(datetime.datetime.now())\n",
    "dt = datetime.datetime(2019, 10, 21, 16, 29, 0)\n",
    "print(dt.year, dt.month, dt.day,dt.hour, dt.minute, dt.second)\n",
    "print(datetime.datetime.fromtimestamp(10000))\n",
    "print(datetime.datetime.fromtimestamp(time.time()))\n",
    "print(datetime.datetime.fromtimestamp(round(time.time(),0)))\n",
    "\n"
   ]
  },
  {
   "cell_type": "code",
   "execution_count": null,
   "metadata": {},
   "outputs": [],
   "source": [
    "# timestamps are super useful for calculating differences between dates\n",
    "# How many seconds are between 13 January 2023 and 25 April 2019?"
   ]
  },
  {
   "cell_type": "code",
   "execution_count": 68,
   "metadata": {},
   "outputs": [
    {
     "name": "stdout",
     "output_type": "stream",
     "text": [
      "the difference is 117421200.0 seconds\n"
     ]
    }
   ],
   "source": [
    "firstdt = datetime.datetime(2019, 4, 25)\n",
    "seconddt = datetime.datetime(2023,1,13)\n",
    "print(\"the difference is\",seconddt.timestamp()-firstdt.timestamp(),\"seconds\")"
   ]
  },
  {
   "cell_type": "code",
   "execution_count": null,
   "metadata": {},
   "outputs": [],
   "source": [
    "# How many seconds have passed since the first of january 2023?"
   ]
  },
  {
   "cell_type": "code",
   "execution_count": 65,
   "metadata": {},
   "outputs": [
    {
     "name": "stdout",
     "output_type": "stream",
     "text": [
      "9794732.0 seconds\n"
     ]
    }
   ],
   "source": [
    "dt = datetime(2023, 1, 1)\n",
    "print(round(datetime.now().timestamp()-dt.timestamp(),0),\"seconds\")\n"
   ]
  },
  {
   "cell_type": "markdown",
   "metadata": {},
   "source": [
    "### Working with dates & converting to strings "
   ]
  },
  {
   "cell_type": "code",
   "execution_count": 2,
   "metadata": {},
   "outputs": [
    {
     "name": "stdout",
     "output_type": "stream",
     "text": [
      "2023-04-22 12:06:12.513562\n",
      "2026-01-16 12:06:12.513562\n",
      "1996-01-24 12:06:12.513562\n",
      "1996/01/24 12:06:12\n",
      "1996-01-24 12:06:12\n"
     ]
    }
   ],
   "source": [
    "import datetime\n",
    "dt = datetime.datetime.now()\n",
    "print(dt)\n",
    "dt += datetime.timedelta(days=1000)\n",
    "print(dt)\n",
    "\n",
    "aboutThirtyYears = datetime.timedelta(days=365 * 30)\n",
    "dt -= aboutThirtyYears\n",
    "print(dt)\n",
    "datestring = dt.strftime('%Y/%m/%d %H:%M:%S')\n",
    "print(datestring)\n",
    "# Convert back to date\n",
    "date = datetime.datetime.strptime(datestring,'%Y/%m/%d %H:%M:%S')\n",
    "print(date)"
   ]
  },
  {
   "cell_type": "markdown",
   "metadata": {},
   "source": [
    "### Working with Calendars"
   ]
  },
  {
   "cell_type": "code",
   "execution_count": 28,
   "metadata": {},
   "outputs": [
    {
     "name": "stdout",
     "output_type": "stream",
     "text": [
      "     March 2019\n",
      "Mo Tu We Th Fr Sa Su\n",
      "             1  2  3\n",
      " 4  5  6  7  8  9 10\n",
      "11 12 13 14 15 16 17\n",
      "18 19 20 21 22 23 24\n",
      "25 26 27 28 29 30 31\n",
      "\n"
     ]
    }
   ],
   "source": [
    "import calendar\n",
    "print(calendar.monthcalendar(2019,3))"
   ]
  },
  {
   "cell_type": "code",
   "execution_count": 29,
   "metadata": {},
   "outputs": [
    {
     "name": "stdout",
     "output_type": "stream",
     "text": [
      "     March 2019\n",
      "Mo Tu We Th Fr Sa Su\n",
      "             1  2  3\n",
      " 4  5  6  7  8  9 10\n",
      "11 12 13 14 15 16 17\n",
      "18 19 20 21 22 23 24\n",
      "25 26 27 28 29 30 31\n",
      "\n"
     ]
    }
   ],
   "source": [
    "print(calendar.month(2019,3))"
   ]
  },
  {
   "cell_type": "code",
   "execution_count": 30,
   "metadata": {},
   "outputs": [
    {
     "name": "stdout",
     "output_type": "stream",
     "text": [
      "February\n",
      "Monday\n"
     ]
    }
   ],
   "source": [
    "# print out Febrary\n",
    "print(calendar.month_name[2])\n",
    "# print out Monday\n",
    "print(calendar.day_name[0])"
   ]
  },
  {
   "cell_type": "code",
   "execution_count": null,
   "metadata": {},
   "outputs": [],
   "source": [
    "# what date is it in 17 days? What is the name of the weekday?"
   ]
  },
  {
   "cell_type": "code",
   "execution_count": 16,
   "metadata": {
    "scrolled": true
   },
   "outputs": [
    {
     "name": "stdout",
     "output_type": "stream",
     "text": [
      "2023-05-11 13:32:05.750475\n",
      "Thursday\n"
     ]
    }
   ],
   "source": [
    "import calendar\n",
    "import datetime\n",
    "dt = datetime.datetime.now()\n",
    "dt += datetime.timedelta(days=17)\n",
    "print(dt)\n",
    "print(calendar.day_name[dt.weekday()])"
   ]
  },
  {
   "cell_type": "code",
   "execution_count": null,
   "metadata": {},
   "outputs": [],
   "source": [
    "# Is it friday the 13th? The user gives in a date and your program returns true or false based on the date\n"
   ]
  },
  {
   "cell_type": "code",
   "execution_count": 70,
   "metadata": {},
   "outputs": [
    {
     "name": "stdout",
     "output_type": "stream",
     "text": [
      "Give in a date 2023/01/01\n"
     ]
    },
    {
     "data": {
      "text/plain": [
       "False"
      ]
     },
     "execution_count": 70,
     "metadata": {},
     "output_type": "execute_result"
    }
   ],
   "source": [
    "# Solution\n",
    "def friday13(date):\n",
    "    if date.day == 13 and date.weekday() == 4:\n",
    "        return True\n",
    "    else:\n",
    "        return False\n",
    "datestring = input(\"Give in a date \")\n",
    "date = datetime.strptime(datestring,\"%Y/%m/%d\")\n",
    "friday13(date)\n"
   ]
  },
  {
   "cell_type": "markdown",
   "metadata": {},
   "source": [
    "### Working with date util"
   ]
  },
  {
   "cell_type": "markdown",
   "metadata": {},
   "source": [
    "Sometimes we need a little more functionality"
   ]
  },
  {
   "cell_type": "code",
   "execution_count": 10,
   "metadata": {},
   "outputs": [
    {
     "name": "stdout",
     "output_type": "stream",
     "text": [
      "Requirement already satisfied: python-dateutil in c:\\users\\geysedr\\anaconda3\\lib\\site-packages (2.8.2)\n",
      "Requirement already satisfied: six>=1.5 in c:\\users\\geysedr\\anaconda3\\lib\\site-packages (from python-dateutil) (1.16.0)\n"
     ]
    }
   ],
   "source": [
    "!pip install python-dateutil"
   ]
  },
  {
   "cell_type": "code",
   "execution_count": 75,
   "metadata": {},
   "outputs": [
    {
     "name": "stdout",
     "output_type": "stream",
     "text": [
      "Give in your birthday:07/01/1999\n",
      "24 years\n"
     ]
    }
   ],
   "source": [
    "from dateutil.parser import *\n",
    "from dateutil.relativedelta import *\n",
    "from dateutil.rrule import *\n",
    "from datetime import *\n",
    "from dateutil.easter import *\n",
    "inputdate = input(\"Give in your birthday:\")\n",
    "dt_parser = parser()\n",
    "age = relativedelta(datetime.now(),dt_parser.parse(inputdate,dayfirst=True))\n",
    "print(age.years,\"years\")"
   ]
  },
  {
   "cell_type": "code",
   "execution_count": null,
   "metadata": {},
   "outputs": [],
   "source": [
    "# Calculate the user's age in years based on their birthday"
   ]
  },
  {
   "cell_type": "code",
   "execution_count": 10,
   "metadata": {},
   "outputs": [
    {
     "name": "stdout",
     "output_type": "stream",
     "text": [
      "24\n"
     ]
    }
   ],
   "source": [
    "from dateutil.parser import *\n",
    "from dateutil.relativedelta import *\n",
    "from datetime import *\n",
    "inputdate = input(\"Give in your birthday:\")\n",
    "dt_parser = parser()\n",
    "age = relativedelta(datetime.now(),dt_parser.parse(inputdate))\n",
    "print(age.years)"
   ]
  },
  {
   "cell_type": "code",
   "execution_count": 59,
   "metadata": {},
   "outputs": [
    {
     "name": "stdout",
     "output_type": "stream",
     "text": [
      "2023-10-13 09:38:56\n"
     ]
    }
   ],
   "source": [
    "# When is the next friday the 13th?\n",
    "year = rrule(DAILY,bymonthday=13,byweekday=FR)[0]\n",
    "print(year)"
   ]
  },
  {
   "cell_type": "code",
   "execution_count": null,
   "metadata": {},
   "outputs": [],
   "source": [
    "# When is easter in the year 2065?"
   ]
  },
  {
   "cell_type": "code",
   "execution_count": 64,
   "metadata": {},
   "outputs": [
    {
     "name": "stdout",
     "output_type": "stream",
     "text": [
      "2065-03-29\n"
     ]
    }
   ],
   "source": [
    "print(easter(2065))"
   ]
  },
  {
   "cell_type": "code",
   "execution_count": 4,
   "metadata": {},
   "outputs": [
    {
     "name": "stdout",
     "output_type": "stream",
     "text": [
      "January\n"
     ]
    }
   ],
   "source": []
  },
  {
   "cell_type": "markdown",
   "metadata": {},
   "source": [
    "## Multithreading\n",
    "See file multi.py\n"
   ]
  },
  {
   "cell_type": "code",
   "execution_count": 36,
   "metadata": {},
   "outputs": [
    {
     "name": "stdout",
     "output_type": "stream",
     "text": [
      "15\n",
      "11\n"
     ]
    }
   ],
   "source": [
    "import threading\n",
    "def sum(a,b):\n",
    "    print(a+b)\n",
    "thread1 = threading.Thread(target=sum,args=[5,10])\n",
    "thread2 = threading.Thread(target=sum,args=[7,4])\n",
    "thread1.start()\n",
    "thread2.start()\n",
    "thread1.join()\n",
    "thread2.join()"
   ]
  },
  {
   "cell_type": "code",
   "execution_count": 38,
   "metadata": {},
   "outputs": [
    {
     "name": "stdout",
     "output_type": "stream",
     "text": [
      "30\n"
     ]
    }
   ],
   "source": [
    "import threading\n",
    "import queue\n",
    "\n",
    "def my_func(param1, param2, queue):\n",
    "    # Do some computation and put the result in the queue\n",
    "    result = param1 + param2\n",
    "    queue.put(result)\n",
    "\n",
    "param1 = 10\n",
    "param2 = 20\n",
    "\n",
    "result_queue = queue.Queue()\n",
    "\n",
    "thread1 = threading.Thread(target=my_func, args=(param1, param2, result_queue))\n",
    "thread2 = threading.Thread(target=my_func, args=(param1, param2, result_queue))\n",
    "\n",
    "thread1.start()\n",
    "thread2.start()\n",
    "thread1.join()\n",
    "thread2.join()\n",
    "result = result_queue.get()\n",
    "print(result)\n"
   ]
  },
  {
   "cell_type": "markdown",
   "metadata": {},
   "source": [
    "## Launching programs"
   ]
  },
  {
   "cell_type": "code",
   "execution_count": 10,
   "metadata": {},
   "outputs": [
    {
     "name": "stdout",
     "output_type": "stream",
     "text": [
      "None\n",
      "1\n"
     ]
    }
   ],
   "source": [
    "import subprocess\n",
    "subprocess.Popen(r\"C:\\Windows\\System32\\calc.exe\")\n",
    "ie = subprocess.Popen(r\"C:\\Program Files\\Internet Explorer\\iexplore.exe\")\n",
    "print(ie.poll())\n",
    "ie.wait()\n",
    "print(ie.poll())"
   ]
  },
  {
   "cell_type": "markdown",
   "metadata": {},
   "source": [
    "### Running Python programs\n",
    "see files popen.py and test.py\n",
    "\n",
    "### Opening default applications"
   ]
  },
  {
   "cell_type": "code",
   "execution_count": 81,
   "metadata": {},
   "outputs": [
    {
     "data": {
      "text/plain": [
       "<Popen: returncode: None args: ['start', 'alarm.wav']>"
      ]
     },
     "execution_count": 81,
     "metadata": {},
     "output_type": "execute_result"
    }
   ],
   "source": [
    "import subprocess\n",
    "\n",
    "textfile = open('hello.txt', 'w')\n",
    "textfile.write('Hello, world!')\n",
    "textfile.close()\n",
    "\n",
    "subprocess.Popen(['start', 'hello.txt'], shell=True)\n",
    "\n",
    "subprocess.Popen(['start', 'alarm.wav'], shell=True)"
   ]
  },
  {
   "cell_type": "code",
   "execution_count": 94,
   "metadata": {},
   "outputs": [
    {
     "data": {
      "text/plain": [
       "<Popen: returncode: None args: ['start', 'python']>"
      ]
     },
     "execution_count": 94,
     "metadata": {},
     "output_type": "execute_result"
    }
   ],
   "source": [
    "# start cmd\n",
    "subprocess.Popen(['start', 'cmd'], shell=True)"
   ]
  },
  {
   "cell_type": "code",
   "execution_count": 95,
   "metadata": {},
   "outputs": [],
   "source": [
    "# start python\n",
    "subprocess.Popen(['start', 'python'], shell=True)"
   ]
  },
  {
   "cell_type": "markdown",
   "metadata": {},
   "source": [
    "### Opening webbrowser"
   ]
  },
  {
   "cell_type": "code",
   "execution_count": 3,
   "metadata": {},
   "outputs": [
    {
     "data": {
      "text/plain": [
       "True"
      ]
     },
     "execution_count": 3,
     "metadata": {},
     "output_type": "execute_result"
    }
   ],
   "source": [
    "import subprocess\n",
    "subprocess.Popen(['start', 'https://google.com'], shell=True)\n",
    "\n",
    "import webbrowser\n",
    "webbrowser.open(\"https://google.com\") "
   ]
  },
  {
   "cell_type": "code",
   "execution_count": null,
   "metadata": {},
   "outputs": [],
   "source": [
    "# Go to thomasmore.infrastructure using edge"
   ]
  },
  {
   "cell_type": "code",
   "execution_count": 39,
   "metadata": {},
   "outputs": [
    {
     "data": {
      "text/plain": [
       "True"
      ]
     },
     "execution_count": 39,
     "metadata": {},
     "output_type": "execute_result"
    }
   ],
   "source": [
    "import webbrowser\n",
    "#webbrowser.open(\"https://thomasmore.instructure.com/courses/26239/discussion_topics/new?is_announcement=true\") \n",
    "webbrowser.register('ie', None,webbrowser.BackgroundBrowser(r\"C:\\Program Files (x86)\\Internet Explorer\\iexplore.exe\"))\n",
    "webbrowser.get('ie').open(\"https://google.com\")\n",
    "webbrowser.get('ie').open_new_tab(\"https://thomasmore.instructure.com/\")"
   ]
  },
  {
   "cell_type": "code",
   "execution_count": null,
   "metadata": {},
   "outputs": [],
   "source": []
  },
  {
   "cell_type": "markdown",
   "metadata": {},
   "source": [
    "## Practice makes perfect!\n",
    "- Create a stopwatch: track the amount of time elapsed between presses of the ENTER key, with each key press starting a new \"lap\" on the timer. Print the lap number, total time, and lap time.\n",
    "- Create a simple timesheet app that records when you type a person’s name and uses the current time to clock them in or out. Also show how long they have been clocked in for.\n",
    "- Download all of the XKCD comic strips from the XKCD website, do it in a multithreaded way, so not just one comic at the time \n",
    "- Write a countdown program that plays an alarm at the end of the countdown. (countdown from wathever the user enters)"
   ]
  }
 ],
 "metadata": {
  "kernelspec": {
   "display_name": "Python 3 (ipykernel)",
   "language": "python",
   "name": "python3"
  },
  "language_info": {
   "codemirror_mode": {
    "name": "ipython",
    "version": 3
   },
   "file_extension": ".py",
   "mimetype": "text/x-python",
   "name": "python",
   "nbconvert_exporter": "python",
   "pygments_lexer": "ipython3",
   "version": "3.9.5"
  },
  "metadata": {
   "interpreter": {
    "hash": "4716b34df6b0e0d61b0a44c71db573090ba3cead5b261234431b6b3bdee224c4"
   }
  }
 },
 "nbformat": 4,
 "nbformat_minor": 2
}
